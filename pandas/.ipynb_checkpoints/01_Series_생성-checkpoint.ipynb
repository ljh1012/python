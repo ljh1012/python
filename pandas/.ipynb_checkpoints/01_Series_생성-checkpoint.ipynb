{
 "cells": [
  {
   "cell_type": "markdown",
   "id": "1e0d5523",
   "metadata": {},
   "source": [
    "### 1. Pandas Series 데이터 생성"
   ]
  },
  {
   "cell_type": "code",
   "execution_count": 1,
   "id": "16e7ad12",
   "metadata": {},
   "outputs": [],
   "source": [
    "import numpy as np\n",
    "import pandas as pd"
   ]
  },
  {
   "cell_type": "markdown",
   "id": "3b2148e9",
   "metadata": {},
   "source": [
    "#### Series\n",
    "  - pandas의 기본 객체 중 하나\n",
    "  - numpy의 ndarray를 기반으로 인덱싱을 기능을 추가하여 1차원 배열을 나타냄\n",
    "  - index를 지정하지 않을 시, 기본적으로 ndarray와 같이 0-based 인덱스 생성, 지정할 경우 명시적으로 지정된 index를 사용\n",
    "  - 같은 타입의 0개 이상의 데이터를 가질 수 있음"
   ]
  },
  {
   "cell_type": "code",
   "execution_count": 2,
   "id": "d4acbace",
   "metadata": {},
   "outputs": [
    {
     "data": {
      "text/plain": [
       "0    1\n",
       "1    2\n",
       "2    3\n",
       "dtype: int64"
      ]
     },
     "execution_count": 2,
     "metadata": {},
     "output_type": "execute_result"
    }
   ],
   "source": [
    "s1 = pd.Series([1, 2, 3])\n",
    "s1"
   ]
  },
  {
   "cell_type": "code",
   "execution_count": 3,
   "id": "6e4e71f1",
   "metadata": {},
   "outputs": [
    {
     "data": {
      "text/plain": [
       "0    a\n",
       "1    b\n",
       "2    c\n",
       "dtype: object"
      ]
     },
     "execution_count": 3,
     "metadata": {},
     "output_type": "execute_result"
    }
   ],
   "source": [
    "s2 = pd.Series(['a', 'b', 'c'])\n",
    "s2"
   ]
  },
  {
   "cell_type": "code",
   "execution_count": 4,
   "id": "085ab255",
   "metadata": {},
   "outputs": [
    {
     "data": {
      "text/plain": [
       "0"
      ]
     },
     "execution_count": 4,
     "metadata": {},
     "output_type": "execute_result"
    }
   ],
   "source": [
    "s3 = pd.Series(np.arange(100))\n",
    "s3[0]"
   ]
  },
  {
   "cell_type": "code",
   "execution_count": 5,
   "id": "2d4c08dd",
   "metadata": {},
   "outputs": [
    {
     "data": {
      "text/plain": [
       "100    1\n",
       "200    2\n",
       "300    3\n",
       "dtype: int64"
      ]
     },
     "execution_count": 5,
     "metadata": {},
     "output_type": "execute_result"
    }
   ],
   "source": [
    "s4 = pd.Series([1, 2, 3], [100, 200, 300])\n",
    "s4"
   ]
  },
  {
   "cell_type": "code",
   "execution_count": 6,
   "id": "1ac63bf0",
   "metadata": {},
   "outputs": [
    {
     "data": {
      "text/plain": [
       "1"
      ]
     },
     "execution_count": 6,
     "metadata": {},
     "output_type": "execute_result"
    }
   ],
   "source": [
    "s4[100]"
   ]
  },
  {
   "cell_type": "code",
   "execution_count": 7,
   "id": "d8fbf85b",
   "metadata": {},
   "outputs": [
    {
     "data": {
      "text/plain": [
       "100    0\n",
       "101    1\n",
       "102    2\n",
       "103    3\n",
       "104    4\n",
       "dtype: int16"
      ]
     },
     "execution_count": 7,
     "metadata": {},
     "output_type": "execute_result"
    }
   ],
   "source": [
    "s6 = pd.Series(np.arange(5), np.arange(100, 105), dtype=np.int16)\n",
    "s6"
   ]
  },
  {
   "cell_type": "code",
   "execution_count": 8,
   "id": "c0dbae98",
   "metadata": {},
   "outputs": [
    {
     "data": {
      "text/plain": [
       "Index([100, 101, 102, 103, 104], dtype='int32')"
      ]
     },
     "execution_count": 8,
     "metadata": {},
     "output_type": "execute_result"
    }
   ],
   "source": [
    "s6.index"
   ]
  },
  {
   "cell_type": "code",
   "execution_count": 9,
   "id": "6a4d49fc",
   "metadata": {},
   "outputs": [
    {
     "data": {
      "text/plain": [
       "array([0, 1, 2, 3, 4], dtype=int16)"
      ]
     },
     "execution_count": 9,
     "metadata": {},
     "output_type": "execute_result"
    }
   ],
   "source": [
    "s6.values"
   ]
  },
  {
   "cell_type": "markdown",
   "id": "3002646b",
   "metadata": {},
   "source": [
    "### 1. 인덱스를  통한 접근"
   ]
  },
  {
   "cell_type": "code",
   "execution_count": 10,
   "id": "18688461",
   "metadata": {},
   "outputs": [
    {
     "data": {
      "text/plain": [
       "4"
      ]
     },
     "execution_count": 10,
     "metadata": {},
     "output_type": "execute_result"
    }
   ],
   "source": [
    "s6[104]"
   ]
  },
  {
   "cell_type": "markdown",
   "id": "4274bed4",
   "metadata": {},
   "source": [
    "##### s6[105] -> 에러"
   ]
  },
  {
   "cell_type": "markdown",
   "id": "2dd0e118",
   "metadata": {},
   "source": [
    "### 2. 인덱스를 통해 업데이트"
   ]
  },
  {
   "cell_type": "code",
   "execution_count": 11,
   "id": "1b046a2f",
   "metadata": {},
   "outputs": [
    {
     "name": "stdout",
     "output_type": "stream",
     "text": [
      "4\n"
     ]
    },
    {
     "data": {
      "text/plain": [
       "40"
      ]
     },
     "execution_count": 11,
     "metadata": {},
     "output_type": "execute_result"
    }
   ],
   "source": [
    "print(s6[104])\n",
    "s6[104] = 40\n",
    "s6[104]"
   ]
  },
  {
   "cell_type": "code",
   "execution_count": 12,
   "id": "89da89e7",
   "metadata": {},
   "outputs": [
    {
     "data": {
      "text/plain": [
       "100      0\n",
       "101      1\n",
       "102      2\n",
       "103      3\n",
       "104     40\n",
       "105     50\n",
       "200    300\n",
       "dtype: int16"
      ]
     },
     "execution_count": 12,
     "metadata": {},
     "output_type": "execute_result"
    }
   ],
   "source": [
    "s6[105] = 50  #인덱스로 값 추가 가능\n",
    "s6[200] = 300\n",
    "s6"
   ]
  },
  {
   "cell_type": "markdown",
   "id": "1fb3ba9e",
   "metadata": {},
   "source": [
    "### 3. 인덱스 재사용"
   ]
  },
  {
   "cell_type": "code",
   "execution_count": 13,
   "id": "115c7f29",
   "metadata": {},
   "outputs": [
    {
     "data": {
      "text/plain": [
       "100    0\n",
       "101    1\n",
       "102    2\n",
       "103    3\n",
       "104    4\n",
       "105    5\n",
       "200    6\n",
       "dtype: int32"
      ]
     },
     "execution_count": 13,
     "metadata": {},
     "output_type": "execute_result"
    }
   ],
   "source": [
    "s7 = pd.Series(np.arange(7), s6.index)\n",
    "s7"
   ]
  }
 ],
 "metadata": {
  "kernelspec": {
   "display_name": "Python 3 (ipykernel)",
   "language": "python",
   "name": "python3"
  },
  "language_info": {
   "codemirror_mode": {
    "name": "ipython",
    "version": 3
   },
   "file_extension": ".py",
   "mimetype": "text/x-python",
   "name": "python",
   "nbconvert_exporter": "python",
   "pygments_lexer": "ipython3",
   "version": "3.11.5"
  }
 },
 "nbformat": 4,
 "nbformat_minor": 5
}
