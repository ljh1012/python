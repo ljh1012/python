{
 "cells": [
  {
   "cell_type": "code",
   "execution_count": 1,
   "id": "de9a4f72",
   "metadata": {},
   "outputs": [],
   "source": [
    "import numpy as np"
   ]
  },
  {
   "cell_type": "code",
   "execution_count": 3,
   "id": "8d2b8176",
   "metadata": {},
   "outputs": [
    {
     "name": "stdout",
     "output_type": "stream",
     "text": [
      "[1 2 3 4]\n"
     ]
    }
   ],
   "source": [
    "x = np.array([1,2,3,4])\n",
    "print(x)"
   ]
  },
  {
   "cell_type": "code",
   "execution_count": 4,
   "id": "d5f2d66a",
   "metadata": {},
   "outputs": [
    {
     "data": {
      "text/plain": [
       "array([[1, 2, 3],\n",
       "       [4, 5, 6]])"
      ]
     },
     "execution_count": 4,
     "metadata": {},
     "output_type": "execute_result"
    }
   ],
   "source": [
    "y= np.array([[1,2,3],[4,5,6]])\n",
    "y"
   ]
  },
  {
   "cell_type": "code",
   "execution_count": 5,
   "id": "da38955a",
   "metadata": {},
   "outputs": [
    {
     "name": "stdout",
     "output_type": "stream",
     "text": [
      "<class 'numpy.ndarray'>\n",
      "<class 'numpy.ndarray'>\n"
     ]
    }
   ],
   "source": [
    "print(type(x))\n",
    "print(type(y))"
   ]
  },
  {
   "cell_type": "markdown",
   "id": "443e1a61",
   "metadata": {},
   "source": [
    "### np.arange 함수로 생성"
   ]
  },
  {
   "cell_type": "code",
   "execution_count": 6,
   "id": "90e267d1",
   "metadata": {},
   "outputs": [
    {
     "data": {
      "text/plain": [
       "array([0, 1, 2, 3, 4, 5, 6, 7, 8, 9])"
      ]
     },
     "execution_count": 6,
     "metadata": {},
     "output_type": "execute_result"
    }
   ],
   "source": [
    "np.arange(10)"
   ]
  },
  {
   "cell_type": "code",
   "execution_count": 7,
   "id": "7241c4fd",
   "metadata": {},
   "outputs": [
    {
     "data": {
      "text/plain": [
       "numpy.ndarray"
      ]
     },
     "execution_count": 7,
     "metadata": {},
     "output_type": "execute_result"
    }
   ],
   "source": [
    "type(np.arange(10))"
   ]
  },
  {
   "cell_type": "code",
   "execution_count": 8,
   "id": "d3815314",
   "metadata": {},
   "outputs": [
    {
     "data": {
      "text/plain": [
       "array([1, 2, 3, 4, 5, 6, 7, 8, 9])"
      ]
     },
     "execution_count": 8,
     "metadata": {},
     "output_type": "execute_result"
    }
   ],
   "source": [
    "np.arange(1,10)"
   ]
  },
  {
   "cell_type": "code",
   "execution_count": 9,
   "id": "03501356",
   "metadata": {},
   "outputs": [
    {
     "data": {
      "text/plain": [
       "array([1, 3, 5, 7, 9])"
      ]
     },
     "execution_count": 9,
     "metadata": {},
     "output_type": "execute_result"
    }
   ],
   "source": [
    "np.arange(1,10,2)"
   ]
  },
  {
   "cell_type": "code",
   "execution_count": 10,
   "id": "a36659f3",
   "metadata": {},
   "outputs": [
    {
     "data": {
      "text/plain": [
       "array([  5,  10,  15,  20,  25,  30,  35,  40,  45,  50,  55,  60,  65,\n",
       "        70,  75,  80,  85,  90,  95, 100])"
      ]
     },
     "execution_count": 10,
     "metadata": {},
     "output_type": "execute_result"
    }
   ],
   "source": [
    "np.arange(5,101,5)"
   ]
  },
  {
   "cell_type": "code",
   "execution_count": 20,
   "id": "56a0a5c6",
   "metadata": {},
   "outputs": [
    {
     "name": "stdout",
     "output_type": "stream",
     "text": [
      "shape: (4,)\n",
      "dim: 1\n"
     ]
    }
   ],
   "source": [
    "arr = np.array([1,2,3,4])\n",
    "print('shape:',arr.shape)\n",
    "print('dim:',arr.ndim)"
   ]
  },
  {
   "cell_type": "code",
   "execution_count": 19,
   "id": "6d9c28dd",
   "metadata": {},
   "outputs": [
    {
     "name": "stdout",
     "output_type": "stream",
     "text": [
      "shape: (2, 4)\n",
      "dim: 2\n"
     ]
    }
   ],
   "source": [
    "arr2 = np.array([[1,2,3,4],[1,2,3,4]])\n",
    "print('shape:',arr2.shape)\n",
    "print('dim:',arr2.ndim)"
   ]
  },
  {
   "cell_type": "code",
   "execution_count": 22,
   "id": "0b58e822",
   "metadata": {},
   "outputs": [
    {
     "name": "stdout",
     "output_type": "stream",
     "text": [
      "shape: (10,)\n",
      "dim: 1\n"
     ]
    }
   ],
   "source": [
    "arr3 = np.arange(10)\n",
    "print('shape:',arr3.shape)\n",
    "print('dim:',arr3.ndim)"
   ]
  },
  {
   "cell_type": "markdown",
   "id": "03601091",
   "metadata": {},
   "source": [
    "### np.zeros, np.ones"
   ]
  },
  {
   "cell_type": "code",
   "execution_count": 31,
   "id": "f9285e9e",
   "metadata": {},
   "outputs": [
    {
     "data": {
      "text/plain": [
       "array([[1, 1, 1, 1, 1],\n",
       "       [1, 1, 1, 1, 1],\n",
       "       [1, 1, 1, 1, 1],\n",
       "       [1, 1, 1, 1, 1]], dtype=uint8)"
      ]
     },
     "execution_count": 31,
     "metadata": {},
     "output_type": "execute_result"
    }
   ],
   "source": [
    "np.ones((4,5),dtype=np.uint8)"
   ]
  },
  {
   "cell_type": "code",
   "execution_count": 34,
   "id": "77282bf4",
   "metadata": {},
   "outputs": [
    {
     "data": {
      "text/plain": [
       "array([[[1, 1, 1, 1],\n",
       "        [1, 1, 1, 1],\n",
       "        [1, 1, 1, 1]],\n",
       "\n",
       "       [[1, 1, 1, 1],\n",
       "        [1, 1, 1, 1],\n",
       "        [1, 1, 1, 1]]], dtype=uint8)"
      ]
     },
     "execution_count": 34,
     "metadata": {},
     "output_type": "execute_result"
    }
   ],
   "source": [
    "np.ones((2,3,4),dtype=np.uint8)"
   ]
  },
  {
   "cell_type": "code",
   "execution_count": 35,
   "id": "428ef0be",
   "metadata": {},
   "outputs": [
    {
     "data": {
      "text/plain": [
       "array([[[0., 0.],\n",
       "        [0., 0.]],\n",
       "\n",
       "       [[0., 0.],\n",
       "        [0., 0.]]])"
      ]
     },
     "execution_count": 35,
     "metadata": {},
     "output_type": "execute_result"
    }
   ],
   "source": [
    "np.zeros((2,2,2))"
   ]
  },
  {
   "cell_type": "markdown",
   "id": "67c200d7",
   "metadata": {},
   "source": [
    "### np.empty, np.full"
   ]
  },
  {
   "cell_type": "code",
   "execution_count": 36,
   "id": "7f59428c",
   "metadata": {},
   "outputs": [
    {
     "data": {
      "text/plain": [
       "array([[1.10624680e-311, 2.47032823e-322, 0.00000000e+000,\n",
       "        0.00000000e+000],\n",
       "       [1.12465777e-312, 1.31370903e-076, 4.75683495e-090,\n",
       "        7.78961124e-071],\n",
       "       [1.00512313e-047, 9.52402452e-047, 3.99910963e+252,\n",
       "        1.90979636e-312]])"
      ]
     },
     "execution_count": 36,
     "metadata": {},
     "output_type": "execute_result"
    }
   ],
   "source": [
    "np.empty((3,4))"
   ]
  },
  {
   "cell_type": "code",
   "execution_count": 37,
   "id": "5be15d7a",
   "metadata": {},
   "outputs": [
    {
     "data": {
      "text/plain": [
       "array([[5, 5, 5, 5],\n",
       "       [5, 5, 5, 5],\n",
       "       [5, 5, 5, 5]])"
      ]
     },
     "execution_count": 37,
     "metadata": {},
     "output_type": "execute_result"
    }
   ],
   "source": [
    "np.full((3,4), 5)"
   ]
  },
  {
   "cell_type": "markdown",
   "id": "f9207c97",
   "metadata": {},
   "source": [
    "### np.eye\n",
    " - 단위행렬"
   ]
  },
  {
   "cell_type": "code",
   "execution_count": 38,
   "id": "c99ba9e1",
   "metadata": {},
   "outputs": [
    {
     "data": {
      "text/plain": [
       "array([[1., 0., 0.],\n",
       "       [0., 1., 0.],\n",
       "       [0., 0., 1.]])"
      ]
     },
     "execution_count": 38,
     "metadata": {},
     "output_type": "execute_result"
    }
   ],
   "source": [
    "np.eye(3)"
   ]
  },
  {
   "cell_type": "markdown",
   "id": "281adb19",
   "metadata": {},
   "source": [
    "### np.linspace\n",
    "- np.linspace(시작, 끝, 몇개?)\n",
    "- np.linspace(1,10,3)-> 1과10두수를 포함해서 총 3개의 값이 분포"
   ]
  },
  {
   "cell_type": "code",
   "execution_count": 39,
   "id": "535c9afc",
   "metadata": {},
   "outputs": [
    {
     "data": {
      "text/plain": [
       "array([ 1. ,  5.5, 10. ])"
      ]
     },
     "execution_count": 39,
     "metadata": {},
     "output_type": "execute_result"
    }
   ],
   "source": [
    "np.linspace(1,10,3)"
   ]
  },
  {
   "cell_type": "code",
   "execution_count": 43,
   "id": "21d24c0b",
   "metadata": {},
   "outputs": [
    {
     "data": {
      "text/plain": [
       "array([ 1.,  4.,  7., 10.])"
      ]
     },
     "execution_count": 43,
     "metadata": {},
     "output_type": "execute_result"
    }
   ],
   "source": [
    "np.linspace(1,10,4)"
   ]
  },
  {
   "cell_type": "code",
   "execution_count": 44,
   "id": "c45e485c",
   "metadata": {},
   "outputs": [
    {
     "data": {
      "text/plain": [
       "array([ 1.  ,  3.25,  5.5 ,  7.75, 10.  ])"
      ]
     },
     "execution_count": 44,
     "metadata": {},
     "output_type": "execute_result"
    }
   ],
   "source": [
    "np.linspace(1,10,5)"
   ]
  },
  {
   "cell_type": "markdown",
   "id": "0b25962f",
   "metadata": {},
   "source": [
    "### reshape"
   ]
  },
  {
   "cell_type": "code",
   "execution_count": 28,
   "id": "a93b4fc5",
   "metadata": {},
   "outputs": [
    {
     "data": {
      "text/plain": [
       "(4, 4)"
      ]
     },
     "execution_count": 28,
     "metadata": {},
     "output_type": "execute_result"
    }
   ],
   "source": [
    "arr4=np.arange(1,17) # 1~16\n",
    "arr4 = arr4.reshape(4,4)\n",
    "arr4.shape"
   ]
  },
  {
   "cell_type": "code",
   "execution_count": 29,
   "id": "fbfada8c",
   "metadata": {},
   "outputs": [
    {
     "data": {
      "text/plain": [
       "array([[ 1,  2,  3,  4],\n",
       "       [ 5,  6,  7,  8],\n",
       "       [ 9, 10, 11, 12],\n",
       "       [13, 14, 15, 16]])"
      ]
     },
     "execution_count": 29,
     "metadata": {},
     "output_type": "execute_result"
    }
   ],
   "source": [
    "arr4"
   ]
  },
  {
   "cell_type": "markdown",
   "id": "fad4cbca",
   "metadata": {},
   "source": [
    "## random 모듈"
   ]
  },
  {
   "cell_type": "markdown",
   "id": "e78953a2",
   "metadata": {},
   "source": [
    "### rand 함수\n",
    "- 0,1 사이의 값으로 랜덤한 ndarray생성"
   ]
  },
  {
   "cell_type": "code",
   "execution_count": 45,
   "id": "035369e4",
   "metadata": {},
   "outputs": [
    {
     "data": {
      "text/plain": [
       "array([[0.09021418, 0.8788292 , 0.90223057, 0.32254657, 0.11893638],\n",
       "       [0.52754473, 0.61021502, 0.86029321, 0.58615325, 0.05458029],\n",
       "       [0.75433598, 0.35806546, 0.40053529, 0.69890252, 0.46972241],\n",
       "       [0.91355298, 0.05872463, 0.29017077, 0.55642464, 0.58025361]])"
      ]
     },
     "execution_count": 45,
     "metadata": {},
     "output_type": "execute_result"
    }
   ],
   "source": [
    "np.random.rand(4,5)"
   ]
  },
  {
   "cell_type": "markdown",
   "id": "e7cb76a1",
   "metadata": {},
   "source": [
    "### randn함수\n",
    "- n: normal distribution(정규분포)\n",
    "- 정규분포로 샘플링된 랜덤 ndarray생성"
   ]
  },
  {
   "cell_type": "code",
   "execution_count": 46,
   "id": "2a19f214",
   "metadata": {},
   "outputs": [
    {
     "data": {
      "text/plain": [
       "array([-0.55431606,  0.52340837,  0.45426306, -1.02064233,  1.17163804])"
      ]
     },
     "execution_count": 46,
     "metadata": {},
     "output_type": "execute_result"
    }
   ],
   "source": [
    "np.random.randn(5)"
   ]
  },
  {
   "cell_type": "code",
   "execution_count": 47,
   "id": "aacbc397",
   "metadata": {},
   "outputs": [
    {
     "data": {
      "text/plain": [
       "array([[[ 0.0054465 ,  1.28048709],\n",
       "        [-1.49278688, -2.37748948],\n",
       "        [-0.48652128, -1.64895077],\n",
       "        [ 0.21926635,  1.95044096]],\n",
       "\n",
       "       [[ 0.74589296, -0.67136066],\n",
       "        [-0.57095313, -0.05233396],\n",
       "        [-0.40137612, -0.25717007],\n",
       "        [-1.91240819,  1.51827106]],\n",
       "\n",
       "       [[ 0.33169157, -2.15591765],\n",
       "        [-0.17161177, -0.43120942],\n",
       "        [-1.35118017, -2.50955763],\n",
       "        [-0.39474913,  0.55188476]]])"
      ]
     },
     "execution_count": 47,
     "metadata": {},
     "output_type": "execute_result"
    }
   ],
   "source": [
    " np.random.randn(3,4,2)"
   ]
  },
  {
   "cell_type": "markdown",
   "id": "c838d554",
   "metadata": {},
   "source": [
    "### randint\n",
    "- 특정 정수 사이에서 랜덤하게 샘플링"
   ]
  },
  {
   "cell_type": "code",
   "execution_count": 50,
   "id": "d991c522",
   "metadata": {},
   "outputs": [
    {
     "data": {
      "text/plain": [
       "array([70, 38, 52, 81, 60])"
      ]
     },
     "execution_count": 50,
     "metadata": {},
     "output_type": "execute_result"
    }
   ],
   "source": [
    "np.random.randint(1,100,size=(5,))"
   ]
  },
  {
   "cell_type": "markdown",
   "id": "7985d9fb",
   "metadata": {},
   "source": [
    "### choice\n",
    "- 주어진 1차원 ndarray로 부터 랜덤으로 샘플링\n",
    "- 정수가 주어졌을경우, np.arange(해당숫자)로 간주"
   ]
  },
  {
   "cell_type": "code",
   "execution_count": 58,
   "id": "1ad1c0d7",
   "metadata": {},
   "outputs": [
    {
     "data": {
      "text/plain": [
       "array([[43, 66, 64, 18],\n",
       "       [66,  0, 63, 76],\n",
       "       [93, 54, 54, 80]])"
      ]
     },
     "execution_count": 58,
     "metadata": {},
     "output_type": "execute_result"
    }
   ],
   "source": [
    "# 정수가 주어졌을경우, np.arange(해당숫자)로 간주\n",
    "np.random.choice(100, size=(3,4))"
   ]
  },
  {
   "cell_type": "code",
   "execution_count": 57,
   "id": "e8d36716",
   "metadata": {},
   "outputs": [
    {
     "data": {
      "text/plain": [
       "array([[3. , 1.7],\n",
       "       [4.9, 1. ]])"
      ]
     },
     "execution_count": 57,
     "metadata": {},
     "output_type": "execute_result"
    }
   ],
   "source": [
    "x = np.array([1, 2, 3, 1.7, 5.5, 4.9])\n",
    "np.random.choice(x,size=(2,2),replace=False)"
   ]
  },
  {
   "cell_type": "code",
   "execution_count": 59,
   "id": "5e9b41f3",
   "metadata": {},
   "outputs": [
    {
     "data": {
      "text/plain": [
       "array([[1.75663114, 1.24068994, 1.99310203, 1.22538549],\n",
       "       [1.7797511 , 2.50154612, 2.57293492, 1.48772609],\n",
       "       [1.75490063, 1.52741716, 1.65263061, 1.27005678]])"
      ]
     },
     "execution_count": 59,
     "metadata": {},
     "output_type": "execute_result"
    }
   ],
   "source": [
    "np.random.uniform(1.0,3.0,size=(3,4))"
   ]
  },
  {
   "cell_type": "code",
   "execution_count": 60,
   "id": "a7ae5ba8",
   "metadata": {},
   "outputs": [
    {
     "data": {
      "text/plain": [
       "array([[-7.68432867,  5.93726043, -2.11591074, -1.99786817],\n",
       "       [-0.88460798,  2.96415953, -2.10158135,  3.98166949],\n",
       "       [ 6.53168332, -2.47728547,  6.60564306,  2.73923126]])"
      ]
     },
     "execution_count": 60,
     "metadata": {},
     "output_type": "execute_result"
    }
   ],
   "source": [
    "np.random.normal(1.0,3.0,size=(3,4))"
   ]
  },
  {
   "cell_type": "markdown",
   "id": "2876c79b",
   "metadata": {},
   "source": [
    "### indexing slicing"
   ]
  },
  {
   "cell_type": "code",
   "execution_count": 65,
   "id": "10f69a09",
   "metadata": {},
   "outputs": [
    {
     "data": {
      "text/plain": [
       "array([0, 1, 2, 3, 4, 5, 6, 7, 8, 9])"
      ]
     },
     "execution_count": 65,
     "metadata": {},
     "output_type": "execute_result"
    }
   ],
   "source": [
    "arr = np.arange(10)\n",
    "arr"
   ]
  },
  {
   "cell_type": "code",
   "execution_count": 66,
   "id": "8371a56a",
   "metadata": {},
   "outputs": [
    {
     "data": {
      "text/plain": [
       "array([ 0,  1,  2,  3,  4, 12, 12, 12,  8,  9])"
      ]
     },
     "execution_count": 66,
     "metadata": {},
     "output_type": "execute_result"
    }
   ],
   "source": [
    "arr[5:8] =12\n",
    "arr"
   ]
  },
  {
   "cell_type": "code",
   "execution_count": 68,
   "id": "6d9e3a42",
   "metadata": {},
   "outputs": [
    {
     "data": {
      "text/plain": [
       "array([  0,   1,   2,   3,   4,  12, 100,  12,   8,   9])"
      ]
     },
     "execution_count": 68,
     "metadata": {},
     "output_type": "execute_result"
    }
   ],
   "source": [
    "arr_slice = arr[5:8] # 얕은복사\n",
    "arr_slice[1] = 100\n",
    "arr"
   ]
  },
  {
   "cell_type": "code",
   "execution_count": 72,
   "id": "c413c258",
   "metadata": {},
   "outputs": [
    {
     "data": {
      "text/plain": [
       "array(['Bob', 'Joe', 'Will', 'Bob', 'Will', 'Joe', 'Joe'], dtype='<U4')"
      ]
     },
     "execution_count": 72,
     "metadata": {},
     "output_type": "execute_result"
    }
   ],
   "source": [
    "names = np.array(['Bob','Joe','Will','Bob','Will','Joe','Joe'])\n",
    "names"
   ]
  },
  {
   "cell_type": "code",
   "execution_count": 73,
   "id": "3fa1a8b3",
   "metadata": {},
   "outputs": [
    {
     "data": {
      "text/plain": [
       "array([[-0.34692897, -0.41616989,  0.21955826, -1.32298232],\n",
       "       [ 0.0672737 ,  2.09246229,  0.16759925,  0.206742  ],\n",
       "       [-1.65410033,  0.65424439,  0.29579208,  0.53713105],\n",
       "       [-0.44176329, -0.44188546,  0.84701639,  1.22673265],\n",
       "       [ 0.58118364,  0.44043508,  1.18427839, -0.13119211],\n",
       "       [-1.5470266 ,  0.71479233, -0.68197982,  0.35058409],\n",
       "       [-0.3212019 ,  0.52370413, -2.35889681,  0.09767474]])"
      ]
     },
     "execution_count": 73,
     "metadata": {},
     "output_type": "execute_result"
    }
   ],
   "source": [
    "data = np.random.randn(7,4)\n",
    "data"
   ]
  },
  {
   "cell_type": "code",
   "execution_count": 74,
   "id": "39b5cd64",
   "metadata": {},
   "outputs": [
    {
     "data": {
      "text/plain": [
       "array([ True, False, False,  True, False, False, False])"
      ]
     },
     "execution_count": 74,
     "metadata": {},
     "output_type": "execute_result"
    }
   ],
   "source": [
    "names == 'Bob'"
   ]
  },
  {
   "cell_type": "code",
   "execution_count": 75,
   "id": "e0897c63",
   "metadata": {},
   "outputs": [
    {
     "data": {
      "text/plain": [
       "array([[-0.34692897, -0.41616989,  0.21955826, -1.32298232],\n",
       "       [-0.44176329, -0.44188546,  0.84701639,  1.22673265]])"
      ]
     },
     "execution_count": 75,
     "metadata": {},
     "output_type": "execute_result"
    }
   ],
   "source": [
    "data[names == 'Bob']"
   ]
  },
  {
   "cell_type": "code",
   "execution_count": 78,
   "id": "b4ff67fc",
   "metadata": {},
   "outputs": [
    {
     "data": {
      "text/plain": [
       "array([[ 0.21955826, -1.32298232],\n",
       "       [ 0.84701639,  1.22673265]])"
      ]
     },
     "execution_count": 78,
     "metadata": {},
     "output_type": "execute_result"
    }
   ],
   "source": [
    "data[names=='Bob', 2:]"
   ]
  },
  {
   "cell_type": "code",
   "execution_count": 79,
   "id": "cf868e48",
   "metadata": {},
   "outputs": [
    {
     "data": {
      "text/plain": [
       "array([-1.32298232,  1.22673265])"
      ]
     },
     "execution_count": 79,
     "metadata": {},
     "output_type": "execute_result"
    }
   ],
   "source": [
    "data[names=='Bob', 3]"
   ]
  },
  {
   "cell_type": "code",
   "execution_count": 81,
   "id": "47d2a12f",
   "metadata": {},
   "outputs": [
    {
     "data": {
      "text/plain": [
       "array([[ 0.0672737 ,  2.09246229,  0.16759925,  0.206742  ],\n",
       "       [-1.65410033,  0.65424439,  0.29579208,  0.53713105],\n",
       "       [ 0.58118364,  0.44043508,  1.18427839, -0.13119211],\n",
       "       [-1.5470266 ,  0.71479233, -0.68197982,  0.35058409],\n",
       "       [-0.3212019 ,  0.52370413, -2.35889681,  0.09767474]])"
      ]
     },
     "execution_count": 81,
     "metadata": {},
     "output_type": "execute_result"
    }
   ],
   "source": [
    "data[~(names == 'Bob')]"
   ]
  },
  {
   "cell_type": "code",
   "execution_count": 82,
   "id": "4143b97d",
   "metadata": {},
   "outputs": [
    {
     "data": {
      "text/plain": [
       "array([[ 0.0672737 ,  2.09246229,  0.16759925,  0.206742  ],\n",
       "       [-1.65410033,  0.65424439,  0.29579208,  0.53713105],\n",
       "       [ 0.58118364,  0.44043508,  1.18427839, -0.13119211],\n",
       "       [-1.5470266 ,  0.71479233, -0.68197982,  0.35058409],\n",
       "       [-0.3212019 ,  0.52370413, -2.35889681,  0.09767474]])"
      ]
     },
     "execution_count": 82,
     "metadata": {},
     "output_type": "execute_result"
    }
   ],
   "source": [
    "cond = ~(names == 'Bob')\n",
    "data[cond]"
   ]
  },
  {
   "cell_type": "code",
   "execution_count": 85,
   "id": "436aac16",
   "metadata": {},
   "outputs": [
    {
     "data": {
      "text/plain": [
       "array([[-0.34692897, -0.41616989,  0.21955826, -1.32298232],\n",
       "       [-1.65410033,  0.65424439,  0.29579208,  0.53713105],\n",
       "       [-0.44176329, -0.44188546,  0.84701639,  1.22673265],\n",
       "       [ 0.58118364,  0.44043508,  1.18427839, -0.13119211]])"
      ]
     },
     "execution_count": 85,
     "metadata": {},
     "output_type": "execute_result"
    }
   ],
   "source": [
    "mask = (names=='Bob') | (names=='Will')\n",
    "data[mask]"
   ]
  },
  {
   "cell_type": "code",
   "execution_count": 86,
   "id": "9a6684c7",
   "metadata": {},
   "outputs": [
    {
     "data": {
      "text/plain": [
       "array([[0.        , 0.        , 0.21955826, 0.        ],\n",
       "       [0.0672737 , 2.09246229, 0.16759925, 0.206742  ],\n",
       "       [0.        , 0.65424439, 0.29579208, 0.53713105],\n",
       "       [0.        , 0.        , 0.84701639, 1.22673265],\n",
       "       [0.58118364, 0.44043508, 1.18427839, 0.        ],\n",
       "       [0.        , 0.71479233, 0.        , 0.35058409],\n",
       "       [0.        , 0.52370413, 0.        , 0.09767474]])"
      ]
     },
     "execution_count": 86,
     "metadata": {},
     "output_type": "execute_result"
    }
   ],
   "source": [
    "data[data<0] = 0\n",
    "data"
   ]
  },
  {
   "cell_type": "code",
   "execution_count": 87,
   "id": "afab893c",
   "metadata": {},
   "outputs": [
    {
     "data": {
      "text/plain": [
       "array([[7.        , 7.        , 7.        , 7.        ],\n",
       "       [0.0672737 , 2.09246229, 0.16759925, 0.206742  ],\n",
       "       [7.        , 7.        , 7.        , 7.        ],\n",
       "       [7.        , 7.        , 7.        , 7.        ],\n",
       "       [7.        , 7.        , 7.        , 7.        ],\n",
       "       [0.        , 0.71479233, 0.        , 0.35058409],\n",
       "       [0.        , 0.52370413, 0.        , 0.09767474]])"
      ]
     },
     "execution_count": 87,
     "metadata": {},
     "output_type": "execute_result"
    }
   ],
   "source": [
    "data[names != 'Joe'] = 7\n",
    "data"
   ]
  },
  {
   "cell_type": "markdown",
   "id": "6c96c07f",
   "metadata": {},
   "source": [
    "### 팬시색인"
   ]
  },
  {
   "cell_type": "code",
   "execution_count": 90,
   "id": "00941708",
   "metadata": {},
   "outputs": [
    {
     "data": {
      "text/plain": [
       "array([[0., 0., 0., 0.],\n",
       "       [1., 1., 1., 1.],\n",
       "       [2., 2., 2., 2.],\n",
       "       [3., 3., 3., 3.],\n",
       "       [4., 4., 4., 4.],\n",
       "       [5., 5., 5., 5.],\n",
       "       [6., 6., 6., 6.],\n",
       "       [7., 7., 7., 7.]])"
      ]
     },
     "execution_count": 90,
     "metadata": {},
     "output_type": "execute_result"
    }
   ],
   "source": [
    "arr = np.empty((8,4))\n",
    "for i in range(arr.shape[0]):\n",
    "    arr[i] = i\n",
    "arr"
   ]
  },
  {
   "cell_type": "code",
   "execution_count": 91,
   "id": "d2576bdf",
   "metadata": {},
   "outputs": [
    {
     "data": {
      "text/plain": [
       "array([[4., 4., 4., 4.],\n",
       "       [3., 3., 3., 3.],\n",
       "       [0., 0., 0., 0.],\n",
       "       [6., 6., 6., 6.]])"
      ]
     },
     "execution_count": 91,
     "metadata": {},
     "output_type": "execute_result"
    }
   ],
   "source": [
    "arr[[4,3,0,6]]"
   ]
  },
  {
   "cell_type": "code",
   "execution_count": 92,
   "id": "16135e5f",
   "metadata": {},
   "outputs": [
    {
     "data": {
      "text/plain": [
       "array([[5., 5., 5., 5.],\n",
       "       [3., 3., 3., 3.],\n",
       "       [1., 1., 1., 1.]])"
      ]
     },
     "execution_count": 92,
     "metadata": {},
     "output_type": "execute_result"
    }
   ],
   "source": [
    "arr[[-3,-5,-7]]"
   ]
  },
  {
   "cell_type": "code",
   "execution_count": 98,
   "id": "69105508",
   "metadata": {},
   "outputs": [
    {
     "data": {
      "text/plain": [
       "(8, 4)"
      ]
     },
     "execution_count": 98,
     "metadata": {},
     "output_type": "execute_result"
    }
   ],
   "source": [
    "arr1 = np.arange(32).reshape((8,4))\n",
    "arr1.shape"
   ]
  },
  {
   "cell_type": "code",
   "execution_count": 99,
   "id": "16893d01",
   "metadata": {},
   "outputs": [
    {
     "data": {
      "text/plain": [
       "(8, 4)"
      ]
     },
     "execution_count": 99,
     "metadata": {},
     "output_type": "execute_result"
    }
   ],
   "source": [
    "arr2 = np.arange(32).reshape(8,4)\n",
    "arr2.shape"
   ]
  },
  {
   "cell_type": "code",
   "execution_count": 100,
   "id": "ff0d0053",
   "metadata": {},
   "outputs": [
    {
     "data": {
      "text/plain": [
       "array([[ 4,  7,  5,  6],\n",
       "       [20, 23, 21, 22],\n",
       "       [28, 31, 29, 30],\n",
       "       [ 8, 11,  9, 10]])"
      ]
     },
     "execution_count": 100,
     "metadata": {},
     "output_type": "execute_result"
    }
   ],
   "source": [
    "arr = np.arange(32).reshape(8,4)\n",
    "arr = arr[[1,5,7,2]][:,[0,3,1,2]]\n",
    "arr"
   ]
  },
  {
   "cell_type": "code",
   "execution_count": 101,
   "id": "c32152d4",
   "metadata": {},
   "outputs": [
    {
     "data": {
      "text/plain": [
       "array([[ 0,  1,  2,  3],\n",
       "       [ 4,  5,  6,  7],\n",
       "       [ 8,  9, 10, 11],\n",
       "       [12, 13, 14, 15],\n",
       "       [16, 17, 18, 19],\n",
       "       [20, 21, 22, 23],\n",
       "       [24, 25, 26, 27],\n",
       "       [28, 29, 30, 31]])"
      ]
     },
     "execution_count": 101,
     "metadata": {},
     "output_type": "execute_result"
    }
   ],
   "source": [
    "arr = np.arange(32).reshape(8,4)\n",
    "arr"
   ]
  },
  {
   "cell_type": "code",
   "execution_count": 102,
   "id": "8025a870",
   "metadata": {},
   "outputs": [
    {
     "data": {
      "text/plain": [
       "array([[ 0,  1,  2,  3,  4],\n",
       "       [ 5,  6,  7,  8,  9],\n",
       "       [10, 11, 12, 13, 14]])"
      ]
     },
     "execution_count": 102,
     "metadata": {},
     "output_type": "execute_result"
    }
   ],
   "source": [
    "arr = np.arange(15).reshape(3,5)\n",
    "arr"
   ]
  },
  {
   "cell_type": "code",
   "execution_count": 103,
   "id": "6a56b4d6",
   "metadata": {},
   "outputs": [
    {
     "data": {
      "text/plain": [
       "array([[ 0,  5, 10],\n",
       "       [ 1,  6, 11],\n",
       "       [ 2,  7, 12],\n",
       "       [ 3,  8, 13],\n",
       "       [ 4,  9, 14]])"
      ]
     },
     "execution_count": 103,
     "metadata": {},
     "output_type": "execute_result"
    }
   ],
   "source": [
    "arr = arr.T\n",
    "arr"
   ]
  },
  {
   "cell_type": "code",
   "execution_count": 106,
   "id": "a9bdc144",
   "metadata": {},
   "outputs": [
    {
     "data": {
      "text/plain": [
       "array([[ 0.8667764 , -1.67379964, -1.07148916],\n",
       "       [-0.14227419,  1.5746327 , -0.02253342],\n",
       "       [ 1.96000678,  1.38847832,  0.26163482],\n",
       "       [ 1.20052756, -1.94271775, -0.42278941],\n",
       "       [ 0.53971672, -0.62790254, -0.65911622],\n",
       "       [-0.3343266 ,  0.15272338,  0.24517203]])"
      ]
     },
     "execution_count": 106,
     "metadata": {},
     "output_type": "execute_result"
    }
   ],
   "source": [
    "arr = np.random.randn(6,3)\n",
    "arr"
   ]
  },
  {
   "cell_type": "code",
   "execution_count": 107,
   "id": "4c302ee5",
   "metadata": {},
   "outputs": [
    {
     "data": {
      "text/plain": [
       "array([[ 6.45750467, -1.67564789, -1.35800348],\n",
       "       [-1.67564789, 11.40068371,  3.39391534],\n",
       "       [-1.35800348,  3.39391534,  1.89034396]])"
      ]
     },
     "execution_count": 107,
     "metadata": {},
     "output_type": "execute_result"
    }
   ],
   "source": [
    "np.dot(arr.T, arr)"
   ]
  },
  {
   "cell_type": "markdown",
   "id": "21b55e4e",
   "metadata": {},
   "source": [
    "#### ravel, np.ravel\n",
    "  - 다차원배열을 1차원으로 변경\n",
    "  - 'order' 파라미터\n",
    "    - 'C' - row 우선 변경\n",
    "    - 'F - column 우선 변경"
   ]
  },
  {
   "cell_type": "code",
   "execution_count": 108,
   "id": "05b4651c",
   "metadata": {},
   "outputs": [
    {
     "data": {
      "text/plain": [
       "array([[ 0,  1,  2,  3,  4],\n",
       "       [ 5,  6,  7,  8,  9],\n",
       "       [10, 11, 12, 13, 14]])"
      ]
     },
     "execution_count": 108,
     "metadata": {},
     "output_type": "execute_result"
    }
   ],
   "source": [
    "arr = np.arange(15).reshape(3,5)\n",
    "arr"
   ]
  },
  {
   "cell_type": "code",
   "execution_count": 111,
   "id": "69175811",
   "metadata": {},
   "outputs": [
    {
     "data": {
      "text/plain": [
       "array([ 0,  1,  2,  3,  4,  5,  6,  7,  8,  9, 10, 11, 12, 13, 14])"
      ]
     },
     "execution_count": 111,
     "metadata": {},
     "output_type": "execute_result"
    }
   ],
   "source": [
    "arr.reshape(15,)"
   ]
  },
  {
   "cell_type": "code",
   "execution_count": 109,
   "id": "2cb1871b",
   "metadata": {},
   "outputs": [
    {
     "data": {
      "text/plain": [
       "array([ 0,  5, 10,  1,  6, 11,  2,  7, 12,  3,  8, 13,  4,  9, 14])"
      ]
     },
     "execution_count": 109,
     "metadata": {},
     "output_type": "execute_result"
    }
   ],
   "source": [
    "np.ravel(arr,order='F')"
   ]
  },
  {
   "cell_type": "code",
   "execution_count": 110,
   "id": "ffd0e71f",
   "metadata": {},
   "outputs": [
    {
     "data": {
      "text/plain": [
       "array([ 0,  1,  2,  3,  4,  5,  6,  7,  8,  9, 10, 11, 12, 13, 14])"
      ]
     },
     "execution_count": 110,
     "metadata": {},
     "output_type": "execute_result"
    }
   ],
   "source": [
    "np.ravel(arr,order='C')"
   ]
  },
  {
   "cell_type": "markdown",
   "id": "8a2ec8ab",
   "metadata": {},
   "source": [
    "#### flatten\n",
    " - 다차원 배열을 1차원으로 변경\n",
    " - ravel과의 차이점: copy를 생성하여 변경함(즉 원본 데이터가 아닌 복사본을 반환)\n",
    " - 'order' 파라미터\n",
    "   - 'C' - row 우선 변경\n",
    "   - 'F - column 우선 변경"
   ]
  },
  {
   "cell_type": "code",
   "execution_count": 113,
   "id": "a6159fc8",
   "metadata": {},
   "outputs": [
    {
     "data": {
      "text/plain": [
       "array([[ 0,  1,  2,  3,  4],\n",
       "       [ 5,  6,  7,  8,  9],\n",
       "       [10, 11, 12, 13, 14]])"
      ]
     },
     "execution_count": 113,
     "metadata": {},
     "output_type": "execute_result"
    }
   ],
   "source": [
    "arr = np.arange(15).reshape(3,5)\n",
    "arr"
   ]
  },
  {
   "cell_type": "code",
   "execution_count": 114,
   "id": "52ead113",
   "metadata": {},
   "outputs": [
    {
     "data": {
      "text/plain": [
       "array([ 0,  5, 10,  1,  6, 11,  2,  7, 12,  3,  8, 13,  4,  9, 14])"
      ]
     },
     "execution_count": 114,
     "metadata": {},
     "output_type": "execute_result"
    }
   ],
   "source": [
    "arr2 = arr.flatten(order='F')\n",
    "arr2"
   ]
  },
  {
   "cell_type": "code",
   "execution_count": 115,
   "id": "de008ed8",
   "metadata": {},
   "outputs": [
    {
     "data": {
      "text/plain": [
       "array([ 0,  1,  2,  3,  4,  5,  6,  7,  8,  9, 10, 11, 12, 13, 14])"
      ]
     },
     "execution_count": 115,
     "metadata": {},
     "output_type": "execute_result"
    }
   ],
   "source": [
    "arr2 = arr.flatten(order='C')\n",
    "arr2"
   ]
  },
  {
   "cell_type": "code",
   "execution_count": 117,
   "id": "5d67650e",
   "metadata": {},
   "outputs": [
    {
     "name": "stdout",
     "output_type": "stream",
     "text": [
      "shape: (36,) dim: 1\n"
     ]
    },
    {
     "data": {
      "text/plain": [
       "array([ 0,  1,  2,  3,  4,  5,  6,  7,  8,  9, 10, 11, 12, 13, 14, 15, 16,\n",
       "       17, 18, 19, 20, 21, 22, 23, 24, 25, 26, 27, 28, 29, 30, 31, 32, 33,\n",
       "       34, 35])"
      ]
     },
     "execution_count": 117,
     "metadata": {},
     "output_type": "execute_result"
    }
   ],
   "source": [
    "arr = np.arange(36)\n",
    "print(f'shape: {arr.shape} dim: {arr.ndim}')\n",
    "arr"
   ]
  },
  {
   "cell_type": "code",
   "execution_count": 118,
   "id": "87ca9851",
   "metadata": {},
   "outputs": [
    {
     "name": "stdout",
     "output_type": "stream",
     "text": [
      "shape: (6, 6) dim: 2\n"
     ]
    },
    {
     "data": {
      "text/plain": [
       "array([[ 0,  1,  2,  3,  4,  5],\n",
       "       [ 6,  7,  8,  9, 10, 11],\n",
       "       [12, 13, 14, 15, 16, 17],\n",
       "       [18, 19, 20, 21, 22, 23],\n",
       "       [24, 25, 26, 27, 28, 29],\n",
       "       [30, 31, 32, 33, 34, 35]])"
      ]
     },
     "execution_count": 118,
     "metadata": {},
     "output_type": "execute_result"
    }
   ],
   "source": [
    "arr = np.arange(36).reshape(6,6)\n",
    "print(f'shape: {arr.shape} dim: {arr.ndim}')\n",
    "arr"
   ]
  },
  {
   "cell_type": "code",
   "execution_count": 119,
   "id": "25079c1a",
   "metadata": {},
   "outputs": [
    {
     "name": "stdout",
     "output_type": "stream",
     "text": [
      "shape: (3, 3, 4) dim: 3\n"
     ]
    },
    {
     "data": {
      "text/plain": [
       "array([[[ 0,  1,  2,  3],\n",
       "        [ 4,  5,  6,  7],\n",
       "        [ 8,  9, 10, 11]],\n",
       "\n",
       "       [[12, 13, 14, 15],\n",
       "        [16, 17, 18, 19],\n",
       "        [20, 21, 22, 23]],\n",
       "\n",
       "       [[24, 25, 26, 27],\n",
       "        [28, 29, 30, 31],\n",
       "        [32, 33, 34, 35]]])"
      ]
     },
     "execution_count": 119,
     "metadata": {},
     "output_type": "execute_result"
    }
   ],
   "source": [
    "arr = np.arange(36).reshape(3,3,-1)\n",
    "print(f'shape: {arr.shape} dim: {arr.ndim}')\n",
    "arr"
   ]
  },
  {
   "cell_type": "markdown",
   "id": "6cc6a64e",
   "metadata": {},
   "source": [
    "## Numpy 데이터 연산\n",
    "- https://numpy.org/devdocs/reference/\n"
   ]
  },
  {
   "cell_type": "code",
   "execution_count": 120,
   "id": "00d624f5",
   "metadata": {},
   "outputs": [
    {
     "data": {
      "text/plain": [
       "array([[ 0,  1,  2,  3,  4],\n",
       "       [ 5,  6,  7,  8,  9],\n",
       "       [10, 11, 12, 13, 14]])"
      ]
     },
     "execution_count": 120,
     "metadata": {},
     "output_type": "execute_result"
    }
   ],
   "source": [
    "x = np.arange(15).reshape(3,5)\n",
    "x"
   ]
  },
  {
   "cell_type": "code",
   "execution_count": 121,
   "id": "6a3d61a7",
   "metadata": {},
   "outputs": [
    {
     "data": {
      "text/plain": [
       "array([[0.88279827, 0.06819903, 0.17236836, 0.07878121, 0.30933816],\n",
       "       [0.98079384, 0.14602945, 0.96958043, 0.27663386, 0.67491755],\n",
       "       [0.19883135, 0.0325061 , 0.43994746, 0.66177624, 0.19009299]])"
      ]
     },
     "execution_count": 121,
     "metadata": {},
     "output_type": "execute_result"
    }
   ],
   "source": [
    "y= np.random.rand(15).reshape(3,5)\n",
    "y"
   ]
  },
  {
   "cell_type": "markdown",
   "id": "48f47c12",
   "metadata": {},
   "source": [
    "### 연산함수\n",
    "- add, substract, multiply, divide"
   ]
  },
  {
   "cell_type": "code",
   "execution_count": 122,
   "id": "dccb822f",
   "metadata": {},
   "outputs": [
    {
     "data": {
      "text/plain": [
       "array([[ 0.88279827,  1.06819903,  2.17236836,  3.07878121,  4.30933816],\n",
       "       [ 5.98079384,  6.14602945,  7.96958043,  8.27663386,  9.67491755],\n",
       "       [10.19883135, 11.0325061 , 12.43994746, 13.66177624, 14.19009299]])"
      ]
     },
     "execution_count": 122,
     "metadata": {},
     "output_type": "execute_result"
    }
   ],
   "source": [
    "np.add(x,y)"
   ]
  },
  {
   "cell_type": "code",
   "execution_count": 123,
   "id": "af1dfbf3",
   "metadata": {},
   "outputs": [
    {
     "data": {
      "text/plain": [
       "array([[  0.        ,  14.6629641 ,  11.60305738,  38.08014799,\n",
       "         12.93083251],\n",
       "       [  5.0979113 ,  41.08760347,   7.2196177 ,  28.91909198,\n",
       "         13.33496218],\n",
       "       [ 50.29387912, 338.39799501,  27.27598427,  19.64410206,\n",
       "         73.64816685]])"
      ]
     },
     "execution_count": 123,
     "metadata": {},
     "output_type": "execute_result"
    }
   ],
   "source": [
    "np.divide(x,y)"
   ]
  },
  {
   "cell_type": "code",
   "execution_count": 124,
   "id": "e8a8dde1",
   "metadata": {},
   "outputs": [
    {
     "data": {
      "text/plain": [
       "array([[ 0.88279827,  1.06819903,  2.17236836,  3.07878121,  4.30933816],\n",
       "       [ 5.98079384,  6.14602945,  7.96958043,  8.27663386,  9.67491755],\n",
       "       [10.19883135, 11.0325061 , 12.43994746, 13.66177624, 14.19009299]])"
      ]
     },
     "execution_count": 124,
     "metadata": {},
     "output_type": "execute_result"
    }
   ],
   "source": [
    "x+y"
   ]
  },
  {
   "cell_type": "code",
   "execution_count": 125,
   "id": "3f840663",
   "metadata": {},
   "outputs": [
    {
     "data": {
      "text/plain": [
       "array([[-0.88279827,  0.93180097,  1.82763164,  2.92121879,  3.69066184],\n",
       "       [ 4.01920616,  5.85397055,  6.03041957,  7.72336614,  8.32508245],\n",
       "       [ 9.80116865, 10.9674939 , 11.56005254, 12.33822376, 13.80990701]])"
      ]
     },
     "execution_count": 125,
     "metadata": {},
     "output_type": "execute_result"
    }
   ],
   "source": [
    "x-y"
   ]
  },
  {
   "cell_type": "code",
   "execution_count": 126,
   "id": "85e8027e",
   "metadata": {},
   "outputs": [
    {
     "data": {
      "text/plain": [
       "array([[  0.        ,  14.6629641 ,  11.60305738,  38.08014799,\n",
       "         12.93083251],\n",
       "       [  5.0979113 ,  41.08760347,   7.2196177 ,  28.91909198,\n",
       "         13.33496218],\n",
       "       [ 50.29387912, 338.39799501,  27.27598427,  19.64410206,\n",
       "         73.64816685]])"
      ]
     },
     "execution_count": 126,
     "metadata": {},
     "output_type": "execute_result"
    }
   ],
   "source": [
    "x/y"
   ]
  },
  {
   "cell_type": "code",
   "execution_count": 127,
   "id": "8a0c29ba",
   "metadata": {},
   "outputs": [
    {
     "data": {
      "text/plain": [
       "array([[0.        , 0.06819903, 0.34473672, 0.23634362, 1.23735266],\n",
       "       [4.9039692 , 0.87617668, 6.78706298, 2.21307087, 6.07425795],\n",
       "       [1.98831352, 0.35756713, 5.27936952, 8.60309112, 2.66130181]])"
      ]
     },
     "execution_count": 127,
     "metadata": {},
     "output_type": "execute_result"
    }
   ],
   "source": [
    "x*y"
   ]
  },
  {
   "cell_type": "markdown",
   "id": "f17524db",
   "metadata": {},
   "source": [
    "#### 통계 함수\n",
    " - 평균, 분산, 중앙, 최대, 최소값 등등 통계 관련된 함수가 내장"
   ]
  },
  {
   "cell_type": "code",
   "execution_count": 128,
   "id": "f270ae47",
   "metadata": {},
   "outputs": [
    {
     "data": {
      "text/plain": [
       "array([[0.88279827, 0.06819903, 0.17236836, 0.07878121, 0.30933816],\n",
       "       [0.98079384, 0.14602945, 0.96958043, 0.27663386, 0.67491755],\n",
       "       [0.19883135, 0.0325061 , 0.43994746, 0.66177624, 0.19009299]])"
      ]
     },
     "execution_count": 128,
     "metadata": {},
     "output_type": "execute_result"
    }
   ],
   "source": [
    "y"
   ]
  },
  {
   "cell_type": "code",
   "execution_count": 129,
   "id": "b0e4749b",
   "metadata": {},
   "outputs": [
    {
     "data": {
      "text/plain": [
       "0.40550628645206116"
      ]
     },
     "execution_count": 129,
     "metadata": {},
     "output_type": "execute_result"
    }
   ],
   "source": [
    "#평균\n",
    "np.mean(y)"
   ]
  },
  {
   "cell_type": "code",
   "execution_count": 130,
   "id": "6206dd07",
   "metadata": {},
   "outputs": [
    {
     "data": {
      "text/plain": [
       "0.980793839193163"
      ]
     },
     "execution_count": 130,
     "metadata": {},
     "output_type": "execute_result"
    }
   ],
   "source": [
    "np.max(y)"
   ]
  },
  {
   "cell_type": "code",
   "execution_count": 132,
   "id": "3cc13841",
   "metadata": {},
   "outputs": [
    {
     "data": {
      "text/plain": [
       "5"
      ]
     },
     "execution_count": 132,
     "metadata": {},
     "output_type": "execute_result"
    }
   ],
   "source": [
    "np.argmax(y) # 최대값이 위치한 곳의 인덱스"
   ]
  },
  {
   "cell_type": "code",
   "execution_count": 133,
   "id": "1c33abf4",
   "metadata": {},
   "outputs": [
    {
     "data": {
      "text/plain": [
       "(3, 5)"
      ]
     },
     "execution_count": 133,
     "metadata": {},
     "output_type": "execute_result"
    }
   ],
   "source": [
    "y.shape"
   ]
  },
  {
   "cell_type": "code",
   "execution_count": 134,
   "id": "e9f2fb9f",
   "metadata": {},
   "outputs": [
    {
     "data": {
      "text/plain": [
       "0.1075130597909055"
      ]
     },
     "execution_count": 134,
     "metadata": {},
     "output_type": "execute_result"
    }
   ],
   "source": [
    "np.var(y)  # 분산"
   ]
  },
  {
   "cell_type": "code",
   "execution_count": 135,
   "id": "6942f21f",
   "metadata": {},
   "outputs": [
    {
     "data": {
      "text/plain": [
       "0.2766338585225835"
      ]
     },
     "execution_count": 135,
     "metadata": {},
     "output_type": "execute_result"
    }
   ],
   "source": [
    "np.median(y) # 가운데 위치한 값"
   ]
  },
  {
   "cell_type": "code",
   "execution_count": 138,
   "id": "8d8a39fc",
   "metadata": {},
   "outputs": [
    {
     "data": {
      "text/plain": [
       "0.3278918416046753"
      ]
     },
     "execution_count": 138,
     "metadata": {},
     "output_type": "execute_result"
    }
   ],
   "source": [
    "np.std(y) # 표준편차"
   ]
  },
  {
   "cell_type": "markdown",
   "id": "3a70e406",
   "metadata": {},
   "source": [
    "#### 집계함수\n",
    " - 합계(sum), 누적합계(cumsum) 등등 계산 가능"
   ]
  },
  {
   "cell_type": "code",
   "execution_count": 139,
   "id": "7234562a",
   "metadata": {},
   "outputs": [
    {
     "data": {
      "text/plain": [
       "array([[0.88279827, 0.06819903, 0.17236836, 0.07878121, 0.30933816],\n",
       "       [0.98079384, 0.14602945, 0.96958043, 0.27663386, 0.67491755],\n",
       "       [0.19883135, 0.0325061 , 0.43994746, 0.66177624, 0.19009299]])"
      ]
     },
     "execution_count": 139,
     "metadata": {},
     "output_type": "execute_result"
    }
   ],
   "source": [
    "y"
   ]
  },
  {
   "cell_type": "code",
   "execution_count": 140,
   "id": "5bc7cb0d",
   "metadata": {},
   "outputs": [
    {
     "data": {
      "text/plain": [
       "6.0825942967809175"
      ]
     },
     "execution_count": 140,
     "metadata": {},
     "output_type": "execute_result"
    }
   ],
   "source": [
    "np.sum(y)"
   ]
  },
  {
   "cell_type": "code",
   "execution_count": 141,
   "id": "f2ff653b",
   "metadata": {},
   "outputs": [
    {
     "data": {
      "text/plain": [
       "array([0.88279827, 0.9509973 , 1.12336566, 1.20214687, 1.51148504,\n",
       "       2.49227887, 2.63830832, 3.60788875, 3.88452261, 4.55944015,\n",
       "       4.75827151, 4.79077761, 5.23072507, 5.89250131, 6.0825943 ])"
      ]
     },
     "execution_count": 141,
     "metadata": {},
     "output_type": "execute_result"
    }
   ],
   "source": [
    "np.cumsum(y)"
   ]
  },
  {
   "cell_type": "markdown",
   "id": "88608378",
   "metadata": {},
   "source": [
    "#### any, all 함수\n",
    " - any: 특정 조건을 만족하는 것이 하나라도 있으면 True, 아니면 False\n",
    " - all: 모든 원소가 특정 조건을 만족한다면 True, 아니면 False"
   ]
  },
  {
   "cell_type": "code",
   "execution_count": 143,
   "id": "a985d1cd",
   "metadata": {},
   "outputs": [
    {
     "data": {
      "text/plain": [
       "array([ 0.89400689,  1.22288409, -1.92234449, -0.08300294,  0.20384562,\n",
       "       -1.22377927,  1.03146033,  1.88907406,  0.82777416,  0.69686972])"
      ]
     },
     "execution_count": 143,
     "metadata": {},
     "output_type": "execute_result"
    }
   ],
   "source": [
    "arr = np.random.randn(10)\n",
    "arr"
   ]
  },
  {
   "cell_type": "code",
   "execution_count": 144,
   "id": "808ca384",
   "metadata": {},
   "outputs": [
    {
     "data": {
      "text/plain": [
       "array([ True,  True, False, False,  True, False,  True,  True,  True,\n",
       "        True])"
      ]
     },
     "execution_count": 144,
     "metadata": {},
     "output_type": "execute_result"
    }
   ],
   "source": [
    "arr > 0"
   ]
  },
  {
   "cell_type": "code",
   "execution_count": 145,
   "id": "b9d3f3a7",
   "metadata": {},
   "outputs": [
    {
     "data": {
      "text/plain": [
       "True"
      ]
     },
     "execution_count": 145,
     "metadata": {},
     "output_type": "execute_result"
    }
   ],
   "source": [
    "np.any(arr>0)"
   ]
  },
  {
   "cell_type": "code",
   "execution_count": 146,
   "id": "b6d1dd87",
   "metadata": {},
   "outputs": [
    {
     "data": {
      "text/plain": [
       "True"
      ]
     },
     "execution_count": 146,
     "metadata": {},
     "output_type": "execute_result"
    }
   ],
   "source": [
    "np.all(arr != 0)"
   ]
  },
  {
   "cell_type": "code",
   "execution_count": 147,
   "id": "d6778661",
   "metadata": {},
   "outputs": [
    {
     "data": {
      "text/plain": [
       "False"
      ]
     },
     "execution_count": 147,
     "metadata": {},
     "output_type": "execute_result"
    }
   ],
   "source": [
    "np.all(arr > 0)"
   ]
  },
  {
   "cell_type": "markdown",
   "id": "1b9187bf",
   "metadata": {},
   "source": [
    "#### where 함수\n",
    " - 조건에 따라 선별적으로 값을 선택 가능\n",
    " - 사용 예) 음수인경우는 0, 나머지는 그대로 값을 쓰는 경우"
   ]
  },
  {
   "cell_type": "code",
   "execution_count": 148,
   "id": "6ee4d2bf",
   "metadata": {},
   "outputs": [
    {
     "data": {
      "text/plain": [
       "array([ 0.89400689,  1.22288409, -1.92234449, -0.08300294,  0.20384562,\n",
       "       -1.22377927,  1.03146033,  1.88907406,  0.82777416,  0.69686972])"
      ]
     },
     "execution_count": 148,
     "metadata": {},
     "output_type": "execute_result"
    }
   ],
   "source": [
    "arr"
   ]
  },
  {
   "cell_type": "code",
   "execution_count": 149,
   "id": "0a2a64b4",
   "metadata": {},
   "outputs": [
    {
     "data": {
      "text/plain": [
       "array([0.89400689, 1.22288409, 0.        , 0.        , 0.20384562,\n",
       "       0.        , 1.03146033, 1.88907406, 0.82777416, 0.69686972])"
      ]
     },
     "execution_count": 149,
     "metadata": {},
     "output_type": "execute_result"
    }
   ],
   "source": [
    "np.where(arr > 0 , arr, 0)"
   ]
  },
  {
   "cell_type": "markdown",
   "id": "1e93ca8a",
   "metadata": {},
   "source": [
    "#### axis 이해하기\n",
    " - 몇몇 함수에는 axis keyword 파라미터가 존재\n",
    " - axis값이 없는 경우에는 전체 데이터에 대해 적용\n",
    " - axis값이 있는 경우에는, 해당 axis를 **따라서** 연산 적용"
   ]
  },
  {
   "cell_type": "markdown",
   "id": "4aefb2c4",
   "metadata": {},
   "source": [
    "* axis를 파라미터로 갖는 함수를 이용하기\n",
    " - 거의 대부분의 연산 함수들이 axis 파라미터를 사용\n",
    " - 이 경우, 해당 값이 주어졌을 때, 해당 axis를 **따라서** 연산이 적용\n",
    "   - 따라서 결과는 해당 axis가 제외된 나머지 차원의 데이터만 남게 됨\n",
    " - 예) np.sum, np.mean, np.any 등등"
   ]
  },
  {
   "cell_type": "code",
   "execution_count": 159,
   "id": "b34edf5b",
   "metadata": {},
   "outputs": [
    {
     "data": {
      "text/plain": [
       "array([ 0,  1,  2,  3,  4,  5,  6,  7,  8,  9, 10, 11, 12, 13, 14])"
      ]
     },
     "execution_count": 159,
     "metadata": {},
     "output_type": "execute_result"
    }
   ],
   "source": [
    "arr = np.arange(15)\n",
    "arr"
   ]
  },
  {
   "cell_type": "code",
   "execution_count": 160,
   "id": "9f6f18a9",
   "metadata": {},
   "outputs": [
    {
     "data": {
      "text/plain": [
       "105"
      ]
     },
     "execution_count": 160,
     "metadata": {},
     "output_type": "execute_result"
    }
   ],
   "source": [
    "np.sum(arr)"
   ]
  },
  {
   "cell_type": "code",
   "execution_count": 161,
   "id": "12c4f3f6",
   "metadata": {},
   "outputs": [
    {
     "data": {
      "text/plain": [
       "105"
      ]
     },
     "execution_count": 161,
     "metadata": {},
     "output_type": "execute_result"
    }
   ],
   "source": [
    "np.sum(arr, axis=0)"
   ]
  },
  {
   "cell_type": "code",
   "execution_count": 162,
   "id": "9030426c",
   "metadata": {},
   "outputs": [
    {
     "ename": "AxisError",
     "evalue": "axis 1 is out of bounds for array of dimension 1",
     "output_type": "error",
     "traceback": [
      "\u001b[1;31m---------------------------------------------------------------------------\u001b[0m",
      "\u001b[1;31mAxisError\u001b[0m                                 Traceback (most recent call last)",
      "Cell \u001b[1;32mIn[162], line 1\u001b[0m\n\u001b[1;32m----> 1\u001b[0m np\u001b[38;5;241m.\u001b[39msum(arr, axis\u001b[38;5;241m=\u001b[39m\u001b[38;5;241m1\u001b[39m)\n",
      "File \u001b[1;32m<__array_function__ internals>:200\u001b[0m, in \u001b[0;36msum\u001b[1;34m(*args, **kwargs)\u001b[0m\n",
      "File \u001b[1;32m~\\anaconda3\\Lib\\site-packages\\numpy\\core\\fromnumeric.py:2324\u001b[0m, in \u001b[0;36msum\u001b[1;34m(a, axis, dtype, out, keepdims, initial, where)\u001b[0m\n\u001b[0;32m   2321\u001b[0m         \u001b[38;5;28;01mreturn\u001b[39;00m out\n\u001b[0;32m   2322\u001b[0m     \u001b[38;5;28;01mreturn\u001b[39;00m res\n\u001b[1;32m-> 2324\u001b[0m \u001b[38;5;28;01mreturn\u001b[39;00m _wrapreduction(a, np\u001b[38;5;241m.\u001b[39madd, \u001b[38;5;124m'\u001b[39m\u001b[38;5;124msum\u001b[39m\u001b[38;5;124m'\u001b[39m, axis, dtype, out, keepdims\u001b[38;5;241m=\u001b[39mkeepdims,\n\u001b[0;32m   2325\u001b[0m                       initial\u001b[38;5;241m=\u001b[39minitial, where\u001b[38;5;241m=\u001b[39mwhere)\n",
      "File \u001b[1;32m~\\anaconda3\\Lib\\site-packages\\numpy\\core\\fromnumeric.py:86\u001b[0m, in \u001b[0;36m_wrapreduction\u001b[1;34m(obj, ufunc, method, axis, dtype, out, **kwargs)\u001b[0m\n\u001b[0;32m     83\u001b[0m         \u001b[38;5;28;01melse\u001b[39;00m:\n\u001b[0;32m     84\u001b[0m             \u001b[38;5;28;01mreturn\u001b[39;00m reduction(axis\u001b[38;5;241m=\u001b[39maxis, out\u001b[38;5;241m=\u001b[39mout, \u001b[38;5;241m*\u001b[39m\u001b[38;5;241m*\u001b[39mpasskwargs)\n\u001b[1;32m---> 86\u001b[0m \u001b[38;5;28;01mreturn\u001b[39;00m ufunc\u001b[38;5;241m.\u001b[39mreduce(obj, axis, dtype, out, \u001b[38;5;241m*\u001b[39m\u001b[38;5;241m*\u001b[39mpasskwargs)\n",
      "\u001b[1;31mAxisError\u001b[0m: axis 1 is out of bounds for array of dimension 1"
     ]
    }
   ],
   "source": [
    "np.sum(arr, axis=1)"
   ]
  },
  {
   "cell_type": "code",
   "execution_count": 163,
   "id": "010893b4",
   "metadata": {},
   "outputs": [
    {
     "data": {
      "text/plain": [
       "array([[ 0,  1,  2,  3,  4],\n",
       "       [ 5,  6,  7,  8,  9],\n",
       "       [10, 11, 12, 13, 14]])"
      ]
     },
     "execution_count": 163,
     "metadata": {},
     "output_type": "execute_result"
    }
   ],
   "source": [
    "arr = np.arange(15).reshape(3,5)\n",
    "arr"
   ]
  },
  {
   "cell_type": "code",
   "execution_count": 164,
   "id": "5caa1d72",
   "metadata": {},
   "outputs": [
    {
     "data": {
      "text/plain": [
       "array([15, 18, 21, 24, 27])"
      ]
     },
     "execution_count": 164,
     "metadata": {},
     "output_type": "execute_result"
    }
   ],
   "source": [
    "np.sum(arr, axis=0)"
   ]
  },
  {
   "cell_type": "code",
   "execution_count": 165,
   "id": "65a847d4",
   "metadata": {},
   "outputs": [
    {
     "data": {
      "text/plain": [
       "array([10, 35, 60])"
      ]
     },
     "execution_count": 165,
     "metadata": {},
     "output_type": "execute_result"
    }
   ],
   "source": [
    "np.sum(arr, axis=1)"
   ]
  },
  {
   "cell_type": "markdown",
   "id": "b692f0d2",
   "metadata": {},
   "source": [
    "arr3d = np.arange(36).reshape(3,4,3)\n",
    "arr3d"
   ]
  },
  {
   "cell_type": "code",
   "execution_count": 167,
   "id": "78a3f54d",
   "metadata": {},
   "outputs": [
    {
     "data": {
      "text/plain": [
       "array([[36, 39, 42],\n",
       "       [45, 48, 51],\n",
       "       [54, 57, 60],\n",
       "       [63, 66, 69]])"
      ]
     },
     "execution_count": 167,
     "metadata": {},
     "output_type": "execute_result"
    }
   ],
   "source": [
    "np.sum(arr3d, axis=0)"
   ]
  },
  {
   "cell_type": "code",
   "execution_count": 168,
   "id": "6a6f6684",
   "metadata": {},
   "outputs": [
    {
     "data": {
      "text/plain": [
       "array([[ 18,  22,  26],\n",
       "       [ 66,  70,  74],\n",
       "       [114, 118, 122]])"
      ]
     },
     "execution_count": 168,
     "metadata": {},
     "output_type": "execute_result"
    }
   ],
   "source": [
    "np.sum(arr3d, axis=1)"
   ]
  },
  {
   "cell_type": "code",
   "execution_count": 169,
   "id": "6c10fb4e",
   "metadata": {},
   "outputs": [
    {
     "data": {
      "text/plain": [
       "array([[  3,  12,  21,  30],\n",
       "       [ 39,  48,  57,  66],\n",
       "       [ 75,  84,  93, 102]])"
      ]
     },
     "execution_count": 169,
     "metadata": {},
     "output_type": "execute_result"
    }
   ],
   "source": [
    "np.sum(arr3d, axis=2)"
   ]
  },
  {
   "cell_type": "code",
   "execution_count": 170,
   "id": "75611c2d",
   "metadata": {},
   "outputs": [
    {
     "data": {
      "text/plain": [
       "array([[36, 39, 42],\n",
       "       [45, 48, 51],\n",
       "       [54, 57, 60],\n",
       "       [63, 66, 69]])"
      ]
     },
     "execution_count": 170,
     "metadata": {},
     "output_type": "execute_result"
    }
   ],
   "source": [
    "np.sum(arr3d, axis=-3)"
   ]
  },
  {
   "cell_type": "code",
   "execution_count": 171,
   "id": "96ec890d",
   "metadata": {},
   "outputs": [
    {
     "data": {
      "text/plain": [
       "array([[[ 0,  1,  2],\n",
       "        [ 3,  4,  5],\n",
       "        [ 6,  7,  8],\n",
       "        [ 9, 10, 11]],\n",
       "\n",
       "       [[12, 13, 14],\n",
       "        [15, 16, 17],\n",
       "        [18, 19, 20],\n",
       "        [21, 22, 23]],\n",
       "\n",
       "       [[24, 25, 26],\n",
       "        [27, 28, 29],\n",
       "        [30, 31, 32],\n",
       "        [33, 34, 35]]])"
      ]
     },
     "execution_count": 171,
     "metadata": {},
     "output_type": "execute_result"
    }
   ],
   "source": [
    "arr3d"
   ]
  },
  {
   "cell_type": "code",
   "execution_count": 172,
   "id": "5f981ae9",
   "metadata": {},
   "outputs": [
    {
     "data": {
      "text/plain": [
       "array([117, 144, 171, 198])"
      ]
     },
     "execution_count": 172,
     "metadata": {},
     "output_type": "execute_result"
    }
   ],
   "source": [
    "np.sum(arr3d, axis=(0,2))"
   ]
  },
  {
   "cell_type": "code",
   "execution_count": 175,
   "id": "4f220509",
   "metadata": {},
   "outputs": [
    {
     "data": {
      "text/plain": [
       "array([[36, 39, 42],\n",
       "       [45, 48, 51],\n",
       "       [54, 57, 60],\n",
       "       [63, 66, 69]])"
      ]
     },
     "execution_count": 175,
     "metadata": {},
     "output_type": "execute_result"
    }
   ],
   "source": [
    "a1 = np.array([[36, 39, 42],\n",
    "       [45, 48, 51],\n",
    "       [54, 57, 60],\n",
    "       [63, 66, 69]])\n",
    "a1"
   ]
  },
  {
   "cell_type": "code",
   "execution_count": 176,
   "id": "b65f0c30",
   "metadata": {},
   "outputs": [
    {
     "data": {
      "text/plain": [
       "array([[36, 39, 42],\n",
       "       [45, 48, 51],\n",
       "       [54, 57, 60],\n",
       "       [63, 66, 69]])"
      ]
     },
     "execution_count": 176,
     "metadata": {},
     "output_type": "execute_result"
    }
   ],
   "source": [
    "np.sum(arr3d, axis=0)"
   ]
  },
  {
   "cell_type": "code",
   "execution_count": 177,
   "id": "fd0d41aa",
   "metadata": {},
   "outputs": [
    {
     "data": {
      "text/plain": [
       "array([117, 144, 171, 198])"
      ]
     },
     "execution_count": 177,
     "metadata": {},
     "output_type": "execute_result"
    }
   ],
   "source": [
    "# array([117, 144, 171, 198])\n",
    "np.sum(a1,axis=1)"
   ]
  },
  {
   "cell_type": "markdown",
   "id": "4f4a3f7d",
   "metadata": {},
   "source": [
    "### 브로드캐스팅"
   ]
  },
  {
   "cell_type": "code",
   "execution_count": 182,
   "id": "e0e49f24",
   "metadata": {},
   "outputs": [
    {
     "name": "stdout",
     "output_type": "stream",
     "text": [
      "(4, 3) (3,) (4,) (1, 3)\n"
     ]
    }
   ],
   "source": [
    "a = np.arange(12).reshape(4,3)\n",
    "b = np.arange(100,103)\n",
    "c = np.arange(1000,1004)\n",
    "d = b.reshape(1,3)\n",
    "print(a.shape,b.shape, c.shape, d.shape)"
   ]
  },
  {
   "cell_type": "code",
   "execution_count": 183,
   "id": "57e2fa93",
   "metadata": {},
   "outputs": [
    {
     "data": {
      "text/plain": [
       "array([[100, 102, 104],\n",
       "       [103, 105, 107],\n",
       "       [106, 108, 110],\n",
       "       [109, 111, 113]])"
      ]
     },
     "execution_count": 183,
     "metadata": {},
     "output_type": "execute_result"
    }
   ],
   "source": [
    "a+b"
   ]
  },
  {
   "cell_type": "code",
   "execution_count": 184,
   "id": "9c510b76",
   "metadata": {},
   "outputs": [
    {
     "ename": "ValueError",
     "evalue": "operands could not be broadcast together with shapes (4,3) (4,) ",
     "output_type": "error",
     "traceback": [
      "\u001b[1;31m---------------------------------------------------------------------------\u001b[0m",
      "\u001b[1;31mValueError\u001b[0m                                Traceback (most recent call last)",
      "Cell \u001b[1;32mIn[184], line 1\u001b[0m\n\u001b[1;32m----> 1\u001b[0m a\u001b[38;5;241m+\u001b[39mc\n",
      "\u001b[1;31mValueError\u001b[0m: operands could not be broadcast together with shapes (4,3) (4,) "
     ]
    }
   ],
   "source": [
    "a+c"
   ]
  },
  {
   "cell_type": "code",
   "execution_count": 185,
   "id": "15f8e481",
   "metadata": {},
   "outputs": [
    {
     "data": {
      "text/plain": [
       "array([[100, 102, 104],\n",
       "       [103, 105, 107],\n",
       "       [106, 108, 110],\n",
       "       [109, 111, 113]])"
      ]
     },
     "execution_count": 185,
     "metadata": {},
     "output_type": "execute_result"
    }
   ],
   "source": [
    "a+d"
   ]
  },
  {
   "cell_type": "markdown",
   "id": "f340218f",
   "metadata": {},
   "source": [
    "#### Boolean indexing\n",
    "  - ndarry 인덱싱 시, bool 리스트를 전달하여 True인 경우만 필터링\n",
    "* 브로드캐스팅을 활용하여 ndarray로 부터 bool list 얻기\n",
    " - 예) 짝수인 경우만 찾아보기"
   ]
  },
  {
   "cell_type": "code",
   "execution_count": 188,
   "id": "e2bc19a5",
   "metadata": {},
   "outputs": [
    {
     "data": {
      "text/plain": [
       "array([76, 27, 93, 90, 59, 26, 82, 99, 65, 33])"
      ]
     },
     "execution_count": 188,
     "metadata": {},
     "output_type": "execute_result"
    }
   ],
   "source": [
    "arr =np.random.randint(1,100,size=10)\n",
    "arr"
   ]
  },
  {
   "cell_type": "code",
   "execution_count": 190,
   "id": "afbb40ba",
   "metadata": {},
   "outputs": [
    {
     "data": {
      "text/plain": [
       "array([ True, False, False,  True, False,  True,  True, False, False,\n",
       "       False])"
      ]
     },
     "execution_count": 190,
     "metadata": {},
     "output_type": "execute_result"
    }
   ],
   "source": [
    "#짝수\n",
    "mask = arr%2==0 \n",
    "mask"
   ]
  },
  {
   "cell_type": "code",
   "execution_count": 191,
   "id": "0a3c25c4",
   "metadata": {},
   "outputs": [
    {
     "data": {
      "text/plain": [
       "array([76, 90, 26, 82])"
      ]
     },
     "execution_count": 191,
     "metadata": {},
     "output_type": "execute_result"
    }
   ],
   "source": [
    "arr[mask]"
   ]
  },
  {
   "cell_type": "code",
   "execution_count": 192,
   "id": "062f87ef",
   "metadata": {},
   "outputs": [
    {
     "data": {
      "text/plain": [
       "array([76, 90, 26, 82])"
      ]
     },
     "execution_count": 192,
     "metadata": {},
     "output_type": "execute_result"
    }
   ],
   "source": [
    "arr[arr%2 == 0]"
   ]
  },
  {
   "cell_type": "code",
   "execution_count": 193,
   "id": "491890eb",
   "metadata": {},
   "outputs": [
    {
     "data": {
      "text/plain": [
       "array([76, 93, 90, 59, 82, 99, 65, 33])"
      ]
     },
     "execution_count": 193,
     "metadata": {},
     "output_type": "execute_result"
    }
   ],
   "source": [
    "arr[arr>30]"
   ]
  },
  {
   "cell_type": "markdown",
   "id": "477c46e5",
   "metadata": {},
   "source": [
    "####  다중조건 사용하기\n",
    " - 파이썬 논리 연산지인 and, or, not 키워드 사용 불가\n",
    " - & - AND \n",
    " - | - OR "
   ]
  },
  {
   "cell_type": "code",
   "execution_count": 195,
   "id": "0705b351",
   "metadata": {},
   "outputs": [
    {
     "data": {
      "text/plain": [
       "array([26])"
      ]
     },
     "execution_count": 195,
     "metadata": {},
     "output_type": "execute_result"
    }
   ],
   "source": [
    "mask = (arr%2==0) & (arr < 30)\n",
    "arr[mask]"
   ]
  },
  {
   "cell_type": "code",
   "execution_count": 196,
   "id": "78f57abc",
   "metadata": {},
   "outputs": [
    {
     "data": {
      "text/plain": [
       "array([76, 27, 93, 90, 59, 26, 82, 99, 65])"
      ]
     },
     "execution_count": 196,
     "metadata": {},
     "output_type": "execute_result"
    }
   ],
   "source": [
    "arr[(arr<30) | (arr>50)]"
   ]
  },
  {
   "cell_type": "code",
   "execution_count": 197,
   "id": "3bbf7caf",
   "metadata": {},
   "outputs": [
    {
     "data": {
      "text/plain": [
       "array([33])"
      ]
     },
     "execution_count": 197,
     "metadata": {},
     "output_type": "execute_result"
    }
   ],
   "source": [
    "arr[(arr>30) & (arr<50)]"
   ]
  },
  {
   "cell_type": "code",
   "execution_count": 105,
   "id": "2bbd0080",
   "metadata": {},
   "outputs": [],
   "source": [
    "# 6월의 온도\n",
    "temp = np.array(\n",
    "        [23.9, 24.4, 24.1, 25.4, 27.6, 29.7,\n",
    "         26.7, 25.1, 25.0, 22.7, 21.9, 23.6, \n",
    "         24.9, 25.9, 23.8, 24.7, 25.6, 26.9, \n",
    "         28.6, 28.0, 25.1, 26.7, 28.1, 26.5, \n",
    "         26.3, 25.9, 28.4, 26.1, 27.5, 28.1, 25.8])"
   ]
  },
  {
   "cell_type": "markdown",
   "id": "749c331b",
   "metadata": {},
   "source": [
    "- 평균기온이 25도를 넘는 날의 수는?\n",
    "- 평균기온이 25도를 넘은 날의 평균 기온은?"
   ]
  },
  {
   "cell_type": "code",
   "execution_count": 106,
   "id": "00fb3947",
   "metadata": {},
   "outputs": [
    {
     "data": {
      "text/plain": [
       "array([23.9, 24.4, 24.1, 25.4, 27.6, 29.7, 26.7, 25.1, 25. , 22.7, 21.9,\n",
       "       23.6, 24.9, 25.9, 23.8, 24.7, 25.6, 26.9, 28.6, 28. , 25.1, 26.7,\n",
       "       28.1, 26.5, 26.3, 25.9, 28.4, 26.1, 27.5, 28.1, 25.8])"
      ]
     },
     "execution_count": 106,
     "metadata": {},
     "output_type": "execute_result"
    }
   ],
   "source": [
    "temp"
   ]
  },
  {
   "cell_type": "code",
   "execution_count": 107,
   "id": "5e0dee12",
   "metadata": {},
   "outputs": [
    {
     "data": {
      "text/plain": [
       "array([25.4, 27.6, 29.7, 26.7, 25.1, 25.9, 25.6, 26.9, 28.6, 28. , 25.1,\n",
       "       26.7, 28.1, 26.5, 26.3, 25.9, 28.4, 26.1, 27.5, 28.1, 25.8])"
      ]
     },
     "execution_count": 107,
     "metadata": {},
     "output_type": "execute_result"
    }
   ],
   "source": [
    "mask = temp > 25.0\n",
    "temp[mask]"
   ]
  },
  {
   "cell_type": "code",
   "execution_count": 108,
   "id": "32b3d43d",
   "metadata": {},
   "outputs": [
    {
     "name": "stdout",
     "output_type": "stream",
     "text": [
      "평균기온이 25도를 넘는 날의 수 : 21일\n"
     ]
    }
   ],
   "source": [
    "print(f'평균기온이 25도를 넘는 날의 수 : {len(temp[mask])}일')"
   ]
  },
  {
   "cell_type": "code",
   "execution_count": 109,
   "id": "4390b07f",
   "metadata": {},
   "outputs": [
    {
     "name": "stdout",
     "output_type": "stream",
     "text": [
      "평균기온이 25도를 넘는 날의 수 : 21일(평균기온 : 26.9도)\n"
     ]
    }
   ],
   "source": [
    "avg = np.mean(temp[mask])\n",
    "print(f'평균기온이 25도를 넘는 날의 수 : {len(temp[mask])}일(평균기온 : {avg:.1f}도)')"
   ]
  },
  {
   "cell_type": "code",
   "execution_count": null,
   "id": "15d4ac5f",
   "metadata": {},
   "outputs": [],
   "source": []
  }
 ],
 "metadata": {
  "kernelspec": {
   "display_name": "Python 3 (ipykernel)",
   "language": "python",
   "name": "python3"
  },
  "language_info": {
   "codemirror_mode": {
    "name": "ipython",
    "version": 3
   },
   "file_extension": ".py",
   "mimetype": "text/x-python",
   "name": "python",
   "nbconvert_exporter": "python",
   "pygments_lexer": "ipython3",
   "version": "3.11.5"
  }
 },
 "nbformat": 4,
 "nbformat_minor": 5
}
