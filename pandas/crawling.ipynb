{
 "cells": [
  {
   "cell_type": "code",
   "execution_count": 1,
   "id": "04392bfe",
   "metadata": {},
   "outputs": [],
   "source": [
    "import requests\n",
    "from bs4 import BeautifulSoup\n",
    "import pandas as pd\n",
    "import time"
   ]
  },
  {
   "cell_type": "code",
   "execution_count": 7,
   "id": "49fe71d9",
   "metadata": {},
   "outputs": [],
   "source": [
    "headers = {'User-Agent' : \"Mozilla/5.0 (Windows NT 10.0; Win64; x64) AppleWebKit/537.36 (KHTML, like Gecko) Chrome/122.0.0.0 Safari/537.36\"}\n",
    "player_list=[]\n",
    "for i in range(1, 21):\n",
    "    url = f'https://www.transfermarkt.com/spieler-statistik/wertvollstespieler/marktwertetop?&ajax=yw1&page={i}'\n",
    "    r = requests.get(url, headers=headers)\n",
    "    soup = BeautifulSoup(r.text,'html.parser')\n",
    "    players = soup.find_all('tr', class_=['odd','even'])\n",
    "    for player in players:\n",
    "        info = player.find_all('td')\n",
    "        number = info[0].text\n",
    "        name = info[3].text\n",
    "        position = info[4].text\n",
    "        age = info[5].text\n",
    "        nations = info[6].find_all('img')\n",
    "        nation_text = \"\"\n",
    "        count = 0\n",
    "        for nation in nations:\n",
    "            sep = \",\" if count > 0 else \"\"\n",
    "            nation_text += sep\n",
    "            nation_text +=  nation.get('alt')\n",
    "            count += 1\n",
    "        nation = nation_text\n",
    "        team = info[7].img['alt']\n",
    "        value = info[8].text.strip()\n",
    "        player_list.append([number, name, position, age, nation, team, value])\n",
    "    time.sleep(1)"
   ]
  },
  {
   "cell_type": "code",
   "execution_count": 8,
   "id": "3813b98f",
   "metadata": {},
   "outputs": [
    {
     "data": {
      "text/html": [
       "<div>\n",
       "<style scoped>\n",
       "    .dataframe tbody tr th:only-of-type {\n",
       "        vertical-align: middle;\n",
       "    }\n",
       "\n",
       "    .dataframe tbody tr th {\n",
       "        vertical-align: top;\n",
       "    }\n",
       "\n",
       "    .dataframe thead th {\n",
       "        text-align: right;\n",
       "    }\n",
       "</style>\n",
       "<table border=\"1\" class=\"dataframe\">\n",
       "  <thead>\n",
       "    <tr style=\"text-align: right;\">\n",
       "      <th></th>\n",
       "      <th>name</th>\n",
       "      <th>position</th>\n",
       "      <th>age</th>\n",
       "      <th>nation</th>\n",
       "      <th>team</th>\n",
       "      <th>value</th>\n",
       "    </tr>\n",
       "    <tr>\n",
       "      <th>number</th>\n",
       "      <th></th>\n",
       "      <th></th>\n",
       "      <th></th>\n",
       "      <th></th>\n",
       "      <th></th>\n",
       "      <th></th>\n",
       "    </tr>\n",
       "  </thead>\n",
       "  <tbody>\n",
       "    <tr>\n",
       "      <th>1</th>\n",
       "      <td>Jude Bellingham</td>\n",
       "      <td>Attacking Midfield</td>\n",
       "      <td>20</td>\n",
       "      <td>England,Ireland</td>\n",
       "      <td>Real Madrid</td>\n",
       "      <td>€180.00m</td>\n",
       "    </tr>\n",
       "    <tr>\n",
       "      <th>2</th>\n",
       "      <td>Erling Haaland</td>\n",
       "      <td>Centre-Forward</td>\n",
       "      <td>23</td>\n",
       "      <td>Norway</td>\n",
       "      <td>Manchester City</td>\n",
       "      <td>€180.00m</td>\n",
       "    </tr>\n",
       "    <tr>\n",
       "      <th>3</th>\n",
       "      <td>Kylian Mbappé</td>\n",
       "      <td>Centre-Forward</td>\n",
       "      <td>25</td>\n",
       "      <td>France,Cameroon</td>\n",
       "      <td>Paris Saint-Germain</td>\n",
       "      <td>€180.00m</td>\n",
       "    </tr>\n",
       "    <tr>\n",
       "      <th>4</th>\n",
       "      <td>Vinicius Junior</td>\n",
       "      <td>Left Winger</td>\n",
       "      <td>23</td>\n",
       "      <td>Brazil,Spain</td>\n",
       "      <td>Real Madrid</td>\n",
       "      <td>€150.00m</td>\n",
       "    </tr>\n",
       "    <tr>\n",
       "      <th>5</th>\n",
       "      <td>Bukayo Saka</td>\n",
       "      <td>Right Winger</td>\n",
       "      <td>22</td>\n",
       "      <td>England,Nigeria</td>\n",
       "      <td>Arsenal FC</td>\n",
       "      <td>€130.00m</td>\n",
       "    </tr>\n",
       "    <tr>\n",
       "      <th>...</th>\n",
       "      <td>...</td>\n",
       "      <td>...</td>\n",
       "      <td>...</td>\n",
       "      <td>...</td>\n",
       "      <td>...</td>\n",
       "      <td>...</td>\n",
       "    </tr>\n",
       "    <tr>\n",
       "      <th>496</th>\n",
       "      <td>Wout Faes</td>\n",
       "      <td>Centre-Back</td>\n",
       "      <td>25</td>\n",
       "      <td>Belgium</td>\n",
       "      <td>Leicester City</td>\n",
       "      <td>€20.00m</td>\n",
       "    </tr>\n",
       "    <tr>\n",
       "      <th>497</th>\n",
       "      <td>Ferland Mendy</td>\n",
       "      <td>Left-Back</td>\n",
       "      <td>28</td>\n",
       "      <td>France,Senegal</td>\n",
       "      <td>Real Madrid</td>\n",
       "      <td>€20.00m</td>\n",
       "    </tr>\n",
       "    <tr>\n",
       "      <th>498</th>\n",
       "      <td>Mykola Matvienko</td>\n",
       "      <td>Centre-Back</td>\n",
       "      <td>27</td>\n",
       "      <td>Ukraine</td>\n",
       "      <td>Shakhtar Donetsk</td>\n",
       "      <td>€20.00m</td>\n",
       "    </tr>\n",
       "    <tr>\n",
       "      <th>499</th>\n",
       "      <td>Steven Bergwijn</td>\n",
       "      <td>Left Winger</td>\n",
       "      <td>26</td>\n",
       "      <td>Netherlands,Suriname</td>\n",
       "      <td>Ajax Amsterdam</td>\n",
       "      <td>€20.00m</td>\n",
       "    </tr>\n",
       "    <tr>\n",
       "      <th>500</th>\n",
       "      <td>Miguel Almirón</td>\n",
       "      <td>Right Winger</td>\n",
       "      <td>30</td>\n",
       "      <td>Paraguay</td>\n",
       "      <td>Newcastle United</td>\n",
       "      <td>€20.00m</td>\n",
       "    </tr>\n",
       "  </tbody>\n",
       "</table>\n",
       "<p>500 rows × 6 columns</p>\n",
       "</div>"
      ],
      "text/plain": [
       "                    name            position age                nation  \\\n",
       "number                                                                   \n",
       "1        Jude Bellingham  Attacking Midfield  20       England,Ireland   \n",
       "2         Erling Haaland      Centre-Forward  23                Norway   \n",
       "3          Kylian Mbappé      Centre-Forward  25       France,Cameroon   \n",
       "4        Vinicius Junior         Left Winger  23          Brazil,Spain   \n",
       "5            Bukayo Saka        Right Winger  22       England,Nigeria   \n",
       "...                  ...                 ...  ..                   ...   \n",
       "496            Wout Faes         Centre-Back  25               Belgium   \n",
       "497        Ferland Mendy           Left-Back  28        France,Senegal   \n",
       "498     Mykola Matvienko         Centre-Back  27               Ukraine   \n",
       "499      Steven Bergwijn         Left Winger  26  Netherlands,Suriname   \n",
       "500       Miguel Almirón        Right Winger  30              Paraguay   \n",
       "\n",
       "                       team     value  \n",
       "number                                 \n",
       "1               Real Madrid  €180.00m  \n",
       "2           Manchester City  €180.00m  \n",
       "3       Paris Saint-Germain  €180.00m  \n",
       "4               Real Madrid  €150.00m  \n",
       "5                Arsenal FC  €130.00m  \n",
       "...                     ...       ...  \n",
       "496          Leicester City   €20.00m  \n",
       "497             Real Madrid   €20.00m  \n",
       "498        Shakhtar Donetsk   €20.00m  \n",
       "499          Ajax Amsterdam   €20.00m  \n",
       "500        Newcastle United   €20.00m  \n",
       "\n",
       "[500 rows x 6 columns]"
      ]
     },
     "execution_count": 8,
     "metadata": {},
     "output_type": "execute_result"
    }
   ],
   "source": [
    "df = pd.DataFrame(player_list, columns=['number', 'name', 'position', 'age', 'nation', 'team', 'value'])\n",
    "df.set_index('number', inplace=True)\n",
    "df"
   ]
  },
  {
   "cell_type": "code",
   "execution_count": 20,
   "id": "650fe687",
   "metadata": {},
   "outputs": [
    {
     "data": {
      "text/plain": [
       "0"
      ]
     },
     "execution_count": 20,
     "metadata": {},
     "output_type": "execute_result"
    }
   ],
   "source": [
    "df[df['nation'] == 'Korea,']['age'].count()"
   ]
  },
  {
   "cell_type": "code",
   "execution_count": 12,
   "id": "516142d5",
   "metadata": {},
   "outputs": [
    {
     "name": "stdout",
     "output_type": "stream",
     "text": [
      "<class 'pandas.core.frame.DataFrame'>\n",
      "Index: 500 entries, 1 to 500\n",
      "Data columns (total 6 columns):\n",
      " #   Column    Non-Null Count  Dtype \n",
      "---  ------    --------------  ----- \n",
      " 0   name      500 non-null    object\n",
      " 1   position  500 non-null    object\n",
      " 2   age       500 non-null    object\n",
      " 3   nation    500 non-null    object\n",
      " 4   team      500 non-null    object\n",
      " 5   value     500 non-null    object\n",
      "dtypes: object(6)\n",
      "memory usage: 27.3+ KB\n"
     ]
    }
   ],
   "source": [
    "df.info()"
   ]
  },
  {
   "cell_type": "code",
   "execution_count": 18,
   "id": "2bb3102b",
   "metadata": {},
   "outputs": [
    {
     "data": {
      "text/plain": [
       "35"
      ]
     },
     "execution_count": 18,
     "metadata": {},
     "output_type": "execute_result"
    }
   ],
   "source": [
    "df[df['nation'] == 'England']['age'].count()"
   ]
  },
  {
   "cell_type": "code",
   "execution_count": 2,
   "id": "618fbcfc",
   "metadata": {},
   "outputs": [
    {
     "data": {
      "text/plain": [
       "[]"
      ]
     },
     "execution_count": 2,
     "metadata": {},
     "output_type": "execute_result"
    }
   ],
   "source": [
    "headers2 = {'User-Agent' : \"Mozilla/5.0 (Windows NT 10.0; Win64; x64) AppleWebKit/537.36 (KHTML, like Gecko) Chrome/122.0.0.0 Safari/537.36\"}\n",
    "player_list2=[]\n",
    "category = '전체'\n",
    "url = f'https://myfranchise.kr/ranking/many?category={category}'\n",
    "r = requests.get(url, headers=headers2)\n",
    "soup = BeautifulSoup(r.text,'html.parser')\n",
    "frenchize_rank = soup.find_all('ul', class_=\"css-190jpg7\")\n",
    "frenchize_rank"
   ]
  },
  {
   "cell_type": "code",
   "execution_count": 12,
   "id": "c33baed1",
   "metadata": {},
   "outputs": [
    {
     "name": "stdout",
     "output_type": "stream",
     "text": [
      "<bound method Tag.prettify of <!DOCTYPE html>\n",
      "<html dir=\"ltr\" lang=\"ko\"><head><meta charset=\"utf-8\"/><meta content=\"width=device-width, initial-scale=1.0, maximum-scale=1.0, user-scalable=0\" name=\"viewport\"/><script>if(/MSIE \\d|Trident.*rv:/.test(navigator.userAgent)) {\n",
      "          window.location = 'microsoft-edge:' + window.location;\n",
      "          setTimeout(function() {\n",
      "            window.location = 'https://support.microsoft.com/office/160fa918-d581-4932-9e4e-1075c4713595';\n",
      "          }, 1);\n",
      "        }</script><script>\n",
      "              (function(d,a,b,l,e,_) {\n",
      "              d[b]=d[b]||function(){(d[b].q=d[b].q||[]).push(arguments)};e=a.createElement(l);\n",
      "              e.async=1;e.charset='utf-8';e.src='//static.dable.io/dist/dablena.min.js';\n",
      "              _=a.getElementsByTagName(l)[0];_.parentNode.insertBefore(e,_);\n",
      "              })(window,document,'dablena','script');\n",
      "              dablena('init', '001-007-237');\n",
      "            </script><script async=\"\" data-site-id=\"gvoigfppno\" src=\"https://buttr.dev/butter.js\"></script><title>매장 수 많은 브랜드 | 창업 플랫폼 마이프차</title><meta content=\"매장 수 많은 브랜드 | 창업 플랫폼 마이프차\" name=\"title\"/><meta content=\"운영 중인 매장이 많은 브랜드를 살펴보세요\" name=\"description\"/><meta content=\"매장 수 많은 브랜드 | 창업 플랫폼 마이프차\" name=\"twitter:title\"/><meta content=\"운영 중인 매장이 많은 브랜드를 살펴보세요\" name=\"twitter:description\"/><meta content=\"https://prod-myfranchise-cdn.s3.ap-northeast-2.amazonaws.com/og/brand_many_stores.jpg\" name=\"twitter:image\"/><meta content=\"index,follow\" name=\"robots\"/><meta content=\"https://myfranchise.kr/ranking/many\" property=\"og:url\"/><meta content=\"매장 수 많은 브랜드 | 창업 플랫폼 마이프차\" property=\"og:title\"/><meta content=\"운영 중인 매장이 많은 브랜드를 살펴보세요\" property=\"og:description\"/><meta content=\"https://prod-myfranchise-cdn.s3.ap-northeast-2.amazonaws.com/og/brand_many_stores.jpg\" property=\"og:image\"/><meta content=\"https://prod-myfranchise-cdn.s3.ap-northeast-2.amazonaws.com/og/brand_many_stores.jpg\" property=\"og:image:secure_url\"/><link href=\"https://myfranchise.kr/ranking/many\" rel=\"canonical\"/><meta content=\"18\" name=\"next-head-count\"/><meta content=\"IE=edge,chrome=1\" http-equiv=\"X-UA-Compatible\"/><meta content=\"*\" http-equiv=\"Access-Control-Allow-Origin\"/><meta content=\"text/html; charset=utf-8\" http-equiv=\"Content-Type\"/><meta content=\"text/javascript\" http-equiv=\"Content-Script-Type\"/><meta content=\"text/css\" http-equiv=\"Content-Style-Type\"/><meta content=\"img-src * data:;\" http-equiv=\"Content-Security-Policy\"/><meta content=\"upgrade-insecure-requests\" http-equiv=\"Content-Security-Policy\"/><meta content=\"마이프랜차이즈 (MyFranchise)\" name=\"author\"/><meta content=\"마이프차\" name=\"application-name\"/><meta content=\"마이프차\" name=\"msapplication-tooltip\"/><meta content=\"https://myfranchise.kr/\" name=\"msapplication-starturl\"/><meta content=\"3rcazw7ruz4q90ityzpijplxs0ny2a\" name=\"facebook-domain-verification\"/><meta content=\"4ddda6e6b166e1e6ae75bfe459d4cc129497048c\" name=\"naver-site-verification\"/><meta content=\"HRKeqwuWbj4Nhrpw9IIKrFPozCAwYWpCKmivb--fP_o\" name=\"google-site-verification\"/><meta content=\"summary\" name=\"twitter:card\"/><meta content=\"https://myfranchise.kr/\" property=\"al:web:url\"/><meta content=\"마이프차\" property=\"og:site_name\"/><meta content=\"website\" property=\"og:type\"/><meta content=\"800\" property=\"og:image:width\"/><meta content=\"420\" property=\"og:image:height\"/><meta content=\"4135978613144058\" property=\"fb:app_id\"/><meta content=\"102960474616086\" property=\"fb:pages\"/><meta content=\"myfranchise.kr\" property=\"fb:profile_id\"/><meta content=\"ca-pub-8921050991097615\" name=\"google-adsense-account\"/><link rel=\"preconnect\"/><link href=\"/apple-touch-icon.png\" rel=\"icon\" type=\"image/png\"/><link href=\"/favicon.ico\" rel=\"shortcut icon\" type=\"image/x-icon\"/><link href=\"/apple-touch-icon.png\" rel=\"shorticon icon\" type=\"image/png\"/><link href=\"/apple-touch-icon.png\" rel=\"apple-touch-icon-precomposed\"/><link as=\"style\" crossorigin=\"\" href=\"https://cdn.jsdelivr.net/gh/orioncactus/pretendard@v1.3.5/dist/web/static/pretendard-dynamic-subset.css\" rel=\"stylesheet\"/><link href=\"https://googleads.g.doubleclick.net\" rel=\"dns-prefetch\"/><link href=\"https://www.google-analytics.com\" rel=\"dns-prefetch\"/><link href=\"https://www.googleadservices.com\" rel=\"dns-prefetch\"/><link href=\"https://wcs.naver.com\" rel=\"dns-prefetch\"/><link href=\"https://cdn.channel.io\" rel=\"dns-prefetch\"/><link href=\"https://connect.facebook.net\" rel=\"dns-prefetch\"/><link href=\"https://www.facebook.com\" rel=\"dns-prefetch\"/><link href=\"https://cdn.myfranchise.kr\" rel=\"dns-prefetch\"/><link href=\"https://openapi.map.naver.com\" rel=\"dns-prefetch\"/><link href=\"https://cdn.jsdelivr.net\" rel=\"dns-prefetch\"/><link href=\"//www.google-analytics.com\" rel=\"dns-prefetch\"/><link href=\"//www.googletagmanager.com\" rel=\"dns-prefetch\"/><link href=\"//www.googletagservices.com\" rel=\"dns-prefetch\"/><link href=\"//cdnjs.cloudflare.com\" rel=\"dns-prefetch\"/><link href=\"//connect.facebook.net\" rel=\"dns-prefetch\"/><link href=\"//wcs.naver.net\" rel=\"dns-prefetch\"/><link href=\"https://myfranchise.kr/opensearch.xml\" rel=\"search\" title=\"마이프차\" type=\"application/opensearchdescription+xml\"/><script async=\"\" crossorigin=\"anonymous\" src=\"https://pagead2.googlesyndication.com/pagead/js/adsbygoogle.js?client=ca-pub-8921050991097615\"></script><script data-nscript=\"beforeInteractive\" id=\"google-tag-manager-2\">\n",
      "          (function (w, d, s, l, i) {\n",
      "            w[l] = w[l] || []; w[l].push({\n",
      "              'gtm.start':\n",
      "                new Date().getTime(), event: 'gtm.js'\n",
      "            }); var f = d.getElementsByTagName(s)[0],\n",
      "              j = d.createElement(s), dl = l != 'dataLayer' ? '&l=' + l : ''; j.async = true; j.src =\n",
      "                'https://www.googletagmanager.com/gtm.js?id=' + i + dl; f.parentNode.insertBefore(j, f);\n",
      "          })(window, document, 'script', 'dataLayer', 'GTM-N9B3PB2');\n",
      "          </script><link as=\"style\" href=\"/_next/static/css/7a7c85e4dce32916.css\" rel=\"preload\"/><link data-n-g=\"\" href=\"/_next/static/css/7a7c85e4dce32916.css\" rel=\"stylesheet\"/><noscript data-n-css=\"\"></noscript><script defer=\"\" nomodule=\"\" src=\"/_next/static/chunks/polyfills-c67a75d1b6f99dc8.js\"></script><script defer=\"\" src=\"/_next/static/chunks/webpack-21525ea843439255.js\"></script><script defer=\"\" src=\"/_next/static/chunks/framework-b00110beda037b95.js\"></script><script defer=\"\" src=\"/_next/static/chunks/main-d171e3686c3563be.js\"></script><script defer=\"\" src=\"/_next/static/chunks/pages/_app-d59d46c32556cddc.js\"></script><script defer=\"\" src=\"/_next/static/chunks/8312-ca769f922045148b.js\"></script><script defer=\"\" src=\"/_next/static/chunks/7961-7c654a7e6771093c.js\"></script><script defer=\"\" src=\"/_next/static/chunks/pages/ranking/many-8d6aa77031c9ed6d.js\"></script><script defer=\"\" src=\"/_next/static/XkdFYrGV9r-ydN3VKG8-A/_buildManifest.js\"></script><script defer=\"\" src=\"/_next/static/XkdFYrGV9r-ydN3VKG8-A/_ssgManifest.js\"></script></head><body><script src=\"//dapi.kakao.com/v2/maps/sdk.js?appkey=a2f1fbc2d70e0fb720e007ff193f5b03&amp;libraries=services,clusterer\" type=\"text/javascript\"></script><script>\n",
      "                window.fbAsyncInit = function () {\n",
      "                  FB.init({\n",
      "                    appId: 4135978613144058,\n",
      "                    autoLogAppEvents: true,\n",
      "                    xfbml: true,\n",
      "                    version: 'v7.0'\n",
      "                  });\n",
      "                };\n",
      "              </script><script async=\"\" src=\"https://connect.facebook.net/en_US/sdk.js#xfbml=1&amp;version=v7.0&amp;appId=4135978613144058&amp;autoLogAppEvents=1\"></script><script>\n",
      "              !function (f, b, e, v, n, t, s) {\n",
      "                if (f.fbq) return; n = f.fbq = function () {\n",
      "                  n.callMethod ?\n",
      "                  n.callMethod.apply(n, arguments) : n.queue.push(arguments)\n",
      "                };\n",
      "                if (!f._fbq) f._fbq = n; n.push = n; n.loaded = !0; n.version = '2.0';\n",
      "                n.queue = []; t = b.createElement(e); t.async = !0;\n",
      "                t.src = v; s = b.getElementsByTagName(e)[0];\n",
      "                s.parentNode.insertBefore(t, s)\n",
      "              }(window, document, 'script',\n",
      "                'https://connect.facebook.net/en_US/fbevents.js');\n",
      "              fbq('init', '316235372850253');\n",
      "              fbq('track', 'PageView');\n",
      "            </script><script>\n",
      "                var adn_param = adn_param || [];\n",
      "                adn_param.push([{\n",
      "                    ui:'102441',\n",
      "                    ut:'Home'\n",
      "                }]);\n",
      "              </script><script async=\"\" src=\"https://www.googletagmanager.com/gtag/js?id=AW-667581244\"></script><script async=\"\" src=\"https://www.googletagmanager.com/gtag/js?id=UA-153867773-1\"></script><script async=\"\" src=\"https://www.googletagmanager.com/gtag/js?id=G-DNG02PC9B9\"></script><script async=\"\" src=\"https://www.googleoptimize.com/optimize.js?id=OPT-NQ384DG\"></script><script>\n",
      "              window.dataLayer = window.dataLayer || [];\n",
      "              window.userEmail = window.userEmail || '';\n",
      "              function gtag() {dataLayer.push(arguments);}\n",
      "              gtag('js', new Date());\n",
      "              gtag('config', 'UA-153867773-1');\n",
      "              gtag('config', 'UA-153867773-6');\n",
      "              gtag('config', 'AW-667581244', {'allow_enhanced_conversions': true});\n",
      "              gtag('config', 'G-DNG02PC9B9');\n",
      "          </script><script>\n",
      "                (function (c, l, a, r, i, t, y) {\n",
      "                  c[a] = c[a] || function () {(c[a].q = c[a].q || []).push(arguments)};\n",
      "                  t = l.createElement(r); t.async = 1; t.src = \"https://www.clarity.ms/tag/\" + i;\n",
      "                  y = l.getElementsByTagName(r)[0]; y.parentNode.insertBefore(t, y);\n",
      "                })(window, document, \"clarity\", \"script\", \"4j8899d9og\");\n",
      "              </script><script async=\"\" src=\"//fin.rainbownine.net/js/adn_tags_2.1.3.js\"></script><script async=\"\" src=\"https://t1.daumcdn.net/mapjsapi/bundle/postcode/prod/postcode.v2.js\"></script><script async=\"\" src=\"https://developers.kakao.com/sdk/js/kakao.min.js\"></script><script>\n",
      "                  if (window.kakaoPixel) {\n",
      "                    window.kakaoPixel('4994326016011486475').pageView();\n",
      "                  }\n",
      "                </script><script async=\"\" src=\"http://wcs.naver.net/wcslog.js\"></script><script async=\"\" src=\"https://appleid.cdn-apple.com/appleauth/static/jsapi/appleid/1/en_US/appleid.auth.js\"></script><script async=\"\" src=\"//t1.daumcdn.net/adfit/static/kp.js\"></script><script defer=\"\" src=\"https://openapi.map.naver.com/openapi/v3/maps.js?ncpClientId=w3x36u2c2e&amp;submodules=panorama,geocoder\"></script><noscript><iframe height=\"0\" src=\"https://www.googletagmanager.com/ns.html?id=GTM-MBG4PPP\" style=\"display:none;visibility:hidden\" title=\"gtm-noscript-iframe\" width=\"0\"></iframe></noscript><noscript><iframe height=\"0\" src=\"https://www.googletagmanager.com/ns.html?id=GTM-N9B3PB2\" style=\"display:none;visibility:hidden\" title=\"gtm-noscript-iframe\" width=\"0\"></iframe></noscript><noscript><img alt=\"\" height=\"1\" src=\"https://www.facebook.com/tr?id=316235372850253&amp;ev=PageView&amp;noscript=1\" style=\"display:none\" width=\"1\"/></noscript><div data-reactroot=\"\" id=\"__next\"><style data-emotion=\"css-global k1nf8k\">html{line-height:1.15;-webkit-text-size-adjust:100%;}body{margin:0;}main{display:block;}h1{font-size:2em;margin:0.67em 0;}hr{box-sizing:content-box;height:0;overflow:visible;}pre{font-family:monospace,monospace;font-size:1em;}a{background-color:transparent;}abbr[title]{border-bottom:none;-webkit-text-decoration:underline;text-decoration:underline;-webkit-text-decoration:underline dotted;text-decoration:underline dotted;}b,strong{font-weight:bolder;}code,kbd,samp{font-family:monospace,monospace;font-size:1em;}small{font-size:80%;}sub,sup{font-size:75%;line-height:0;position:relative;vertical-align:baseline;}sub{bottom:-0.25em;}sup{top:-0.5em;}img{border-style:none;}button,input,optgroup,select,textarea{font-family:inherit;font-size:100%;line-height:1.15;margin:0;}button,input{overflow:visible;}button,select{text-transform:none;}button,[type='button'],[type='reset'],[type='submit']{-webkit-appearance:button;}button::-moz-focus-inner,[type='button']::-moz-focus-inner,[type='reset']::-moz-focus-inner,[type='submit']::-moz-focus-inner{border-style:none;padding:0;}button:-moz-focusring,[type='button']:-moz-focusring,[type='reset']:-moz-focusring,[type='submit']:-moz-focusring{outline:1px dotted ButtonText;}fieldset{padding:0.35em 0.75em 0.625em;}legend{box-sizing:border-box;color:inherit;display:table;max-width:100%;padding:0;white-space:normal;}progress{vertical-align:baseline;}textarea{overflow:auto;}[type='checkbox'],[type='radio']{box-sizing:border-box;padding:0;}[type='number']::-webkit-inner-spin-button,[type='number']::-webkit-outer-spin-button{height:auto;}[type='search']{-webkit-appearance:textfield;outline-offset:-2px;}[type='search']::-webkit-search-decoration{-webkit-appearance:none;}::-webkit-file-upload-button{-webkit-appearance:button;font:inherit;}details{display:block;}summary{display:-webkit-box;display:-webkit-list-item;display:-ms-list-itembox;display:list-item;}template{display:none;}[hidden]{display:none;}@font-face{font-family:'Happiness Sans';font-style:normal;font-weight:700;src:url('/fonts/Happiness-Sans-Bold.woff2') format('woff2'),url('/fonts/Happiness-Sans-Bold.woff') format('woff'),url(Happiness-Sans-Bold.otf) format('opentype');font-display:swap;}@font-face{font-family:'Happiness Sans';font-style:normal;font-weight:500;src:url('/fonts/Happiness-Sans-Regular.woff2') format('woff2'),url('/fonts/Happiness-Sans-Regular.woff') format('woff'),url(Happiness-Sans-Regular.otf) format('opentype');font-display:swap;}@font-face{font-family:'Happiness-Sans-Title';src:url('https://cdn.jsdelivr.net/gh/projectnoonnu/noonfonts_2205@1.0/Happiness-Sans-Title.woff2') format('woff2');font-weight:normal;font-style:normal;font-display:swap;}*{box-sizing:border-box;-webkit-touch-callout:none;}html{-webkit-tap-highlight-color:transparent;-webkit-font-smoothing:antialiased;-moz-osx-font-smoothing:auto;}body{color:#191E23;font-family:Pretendard,-apple-system,BlinkMacSystemFont,system-ui,\"Segoe UI\",\"Apple SD Gothic Neo\",\"Apple Color Emoji\",\"Segoe UI Emoji\",\"Segoe UI Symbol\",sans-serif;font-size:14px;}@media screen and (max-width: 971px){body{overscroll-behavior:none;}}@media screen and (max-width: 971px){html,body{-webkit-user-select:none;}}h1,h2,h3,h4,h5,h6,p,span,label{margin:0;overscroll-behavior:none -moz-user-select:none -webkit-user-select:none -ms-user-select:none user-select:none;}a,a:link,a:visited,a:hover,a:active{color:#191E23;-webkit-text-decoration:none;text-decoration:none;cursor:pointer;}ul,ol{margin:0;padding:0;border:0 none;}ul,ol,li{list-style:none;}button{margin:0;padding:0;border:0 none;background-color:transparent;color:black;text-align:left;outline:none;cursor:pointer;}input{outline:0;-webkit-appearance:none;}#ch-plugin>div>div{right:16px!important;}#ch-plugin-launcher>div{min-width:16px!important;height:16px!important;padding:0px!important;top:0!important;right:9px!important;font-weight:700;font-size:14px!important;border-radius:4px!important;background-color:#ff545b;}</style> <!-- --> <!-- --> <!-- --> <!-- --> <style data-emotion=\"css 1iwk1g9\">.css-1iwk1g9{position:relative;display:-webkit-box;display:-webkit-flex;display:-ms-flexbox;display:flex;-webkit-flex-direction:column;-ms-flex-direction:column;flex-direction:column;}{min-height:100vh;}@media screen and (min-width: 972px){.css-1iwk1g9{min-height:100vh;padding-bottom:0;}}</style><div class=\"css-1iwk1g9\"><style data-emotion=\"css me7cl9\">.css-me7cl9{-webkit-flex:1;-ms-flex:1;flex:1;padding-bottom:56px;}</style><main class=\"css-me7cl9\"><style data-emotion=\"css t2gyli\">.css-t2gyli{position:fixed;top:0;z-index:150;display:-webkit-box;display:-webkit-flex;display:-ms-flexbox;display:flex;-webkit-flex-direction:row;-ms-flex-direction:row;flex-direction:row;-webkit-align-items:center;-webkit-box-align:center;-ms-flex-align:center;align-items:center;width:100%;max-width:892px;height:60px;padding:10px 16px;background-color:#ffffff;}@media screen and (min-width: 972px){.css-t2gyli{display:none;}}</style><div class=\"css-t2gyli\"><style data-emotion=\"css w5y7dr\">.css-w5y7dr{position:relative;display:-webkit-box;display:-webkit-flex;display:-ms-flexbox;display:flex;-webkit-flex-direction:row;-ms-flex-direction:row;flex-direction:row;-webkit-align-items:center;-webkit-box-align:center;-ms-flex-align:center;align-items:center;width:100%;height:40px;border-radius:8px;background-color:#f5f5f5;}</style><div class=\"css-w5y7dr\"><style data-emotion=\"css 4m1uqf\">.css-4m1uqf{display:-webkit-box;display:-webkit-flex;display:-ms-flexbox;display:flex;-webkit-flex-direction:row;-ms-flex-direction:row;flex-direction:row;-webkit-box-pack:center;-ms-flex-pack:center;-webkit-justify-content:center;justify-content:center;-webkit-align-items:center;-webkit-box-align:center;-ms-flex-align:center;align-items:center;height:100%;margin:0 9px 0 13px;}</style><div class=\"css-4m1uqf\"><style data-emotion=\"css 111o5ku\">.css-111o5ku{-webkit-transform:rotate(0deg);-moz-transform:rotate(0deg);-ms-transform:rotate(0deg);transform:rotate(0deg);}</style><img alt=\"검색\" class=\"css-111o5ku\" height=\"24\" src=\"data:image/svg+xml;base64,PHN2ZyB3aWR0aD0iMjQiIGhlaWdodD0iMjQiIHZpZXdCb3g9IjAgMCAyNCAyNCIgZmlsbD0ibm9uZSIgeG1sbnM9Imh0dHA6Ly93d3cudzMub3JnLzIwMDAvc3ZnIj4KPHBhdGggZD0iTTE4LjE4NjcgMTkuMDgxNUwxOC4xODY3IDE5LjA4MTRDMTguMjE2MiAxOS4wNjkyIDE4LjI0MyAxOS4wNTEzIDE4LjI2NTYgMTkuMDI4N0MxOC4yNjU2IDE5LjAyODcgMTguMjY1NiAxOS4wMjg3IDE4LjI2NTcgMTkuMDI4NkwxOS4wMjg2IDE4LjI2NzVMMTkuMDI4NiAxOC4yNjc0QzE5LjA1MTMgMTguMjQ0OCAxOS4wNjkyIDE4LjIxOCAxOS4wODE0IDE4LjE4ODRDMTkuMDkzNyAxOC4xNTg5IDE5LjEgMTguMTI3MiAxOS4xIDE4LjA5NTJDMTkuMSAxOC4wNjMyIDE5LjA5MzcgMTguMDMxNSAxOS4wODE1IDE4LjAwMkwxOS4wODE0IDE4LjAwMkMxOS4wNjkyIDE3Ljk3MjQgMTkuMDUxMyAxNy45NDU2IDE5LjAyODcgMTcuOTIzQzE5LjAyODYgMTcuOTIzIDE5LjAyODYgMTcuOTIzIDE5LjAyODYgMTcuOTIzTDE0LjU0NTcgMTMuNDRDMTUuMjMwNCAxMi41MjM5IDE1LjYgMTEuNDE0NiAxNS42IDEwLjI1QzE1LjYgOC44MTk4NCAxNS4wNDE2IDcuNDc4NDggMTQuMDMyNSA2LjQ2NzU5QzEzLjAyMzIgNS40NTY1MiAxMS42NzgyIDQuOSAxMC4yNSA0LjlDOC44MjE2OSA0LjkgNy40NzY4IDUuNDU4MjkgNi40Njc1OSA2LjQ2NzQ3QzUuNDU2NTMgNy40NzY3NSA0LjkgOC44MTk5NyA0LjkgMTAuMjVDNC45IDExLjY3ODMgNS40NTgzMiAxMy4wMjMyIDYuNDY3NTMgMTQuMDMyNEM3LjQ3NjgxIDE1LjA0MzQgOC44MiAxNS42IDEwLjI1IDE1LjZDMTEuNDE0NiAxNS42IDEyLjUyMjIgMTUuMjMwNCAxMy40MzgyIDE0LjU0NzNMMTcuOTIxMiAxOS4wMjg2QzE3LjkyMTIgMTkuMDI4NiAxNy45MjEyIDE5LjAyODYgMTcuOTIxMiAxOS4wMjg2QzE3Ljk0MzggMTkuMDUxMyAxNy45NzA3IDE5LjA2OTIgMTguMDAwMiAxOS4wODE0QzE4LjAyOTggMTkuMDkzNyAxOC4wNjE1IDE5LjEgMTguMDkzNCAxOS4xQzE4LjEyNTQgMTkuMSAxOC4xNTcxIDE5LjA5MzcgMTguMTg2NyAxOS4wODE1Wk0xMi45NTEzIDEyLjk1MTJDMTIuMjI4IDEzLjY3MjggMTEuMjY5OSAxNC4wNyAxMC4yNSAxNC4wN0M5LjIzMDA5IDE0LjA3IDguMjcyIDEzLjY3MjggNy41NDg3IDEyLjk1MTNDNi44MjcxNCAxMi4yMjggNi40Mjk5OSAxMS4yNjk5IDYuNDI5OTkgMTAuMjVDNi40Mjk5OSA5LjIzMDAyIDYuODI3MTkgOC4yNzAyNSA3LjU0ODYyIDcuNTQ4NzhDOC4yNzE5MyA2LjgyNzE4IDkuMjMwMDUgNi40Mjk5OSAxMC4yNSA2LjQyOTk5QzExLjI3MDEgNi40Mjk5OSAxMi4yMjk4IDYuODI1NTQgMTIuOTUxMiA3LjU0ODYyQzEzLjY3MjggOC4yNzE5MyAxNC4wNyA5LjIzMDA1IDE0LjA3IDEwLjI1QzE0LjA3IDExLjI2OTkgMTMuNjcyOCAxMi4yMjk3IDEyLjk1MTMgMTIuOTUxMloiIGZpbGw9IiM5NjlCOUUiIHN0cm9rZT0iIzk2OUI5RSIgc3Ryb2tlLXdpZHRoPSIwLjIiLz4KPC9zdmc+Cg==\" width=\"24\"/></div><style data-emotion=\"css 1oypfiq\">.css-1oypfiq{width:calc(100% - 24px);height:100%;padding:10.5px 0;border:0;border-radius:8px;background-color:#f5f5f5;color:#969B9E;font-size:16px;font-weight:500;font-weight:400;letter-spacing:-0.408px;}.css-1oypfiq::-webkit-input-placeholder{color:#969B9E;font-weight:normal;}.css-1oypfiq::-webkit-input-placeholder{color:#969B9E;font-weight:normal;}.css-1oypfiq::-moz-placeholder{color:#969B9E;font-weight:normal;}.css-1oypfiq:-ms-input-placeholder{color:#969B9E;font-weight:normal;}.css-1oypfiq::placeholder{color:#969B9E;font-weight:normal;}</style><button class=\"css-1oypfiq\">브랜드, 업종, 창업 정보를 검색해 보세요.</button></div></div><style data-emotion=\"css qekxwv\">.css-qekxwv{position:-webkit-sticky;position:sticky;top:56px;z-index:999;display:-webkit-box;display:-webkit-flex;display:-ms-flexbox;display:flex;-webkit-flex-direction:row;-ms-flex-direction:row;flex-direction:row;width:100%;height:52px;padding:13px 16px;border-bottom:1px solid #eee;background-color:#ffffff;}@media screen and (min-width: 972px){.css-qekxwv{display:none;}}</style><div class=\"css-qekxwv\"><style data-emotion=\"css 1flqq3\">.css-1flqq3{display:-webkit-box;display:-webkit-flex;display:-ms-flexbox;display:flex;-webkit-flex-direction:row;-ms-flex-direction:row;flex-direction:row;width:44px;min-width:44px;height:100%;margin-right:calc((100vw - 32px) / 26);background-color:#ffffff;}</style><button class=\"css-1flqq3\" type=\"button\"><style data-emotion=\"css z1qiqj\">.css-z1qiqj{color:#C4C8C9;font-weight:700;font-size:22px;}</style><span class=\"css-z1qiqj\">MY</span></button><button class=\"css-1flqq3\" type=\"button\"><span class=\"css-z1qiqj\">업종</span></button><button class=\"css-1flqq3\" type=\"button\"><span class=\"css-z1qiqj\">테마</span></button><button class=\"css-1flqq3\" type=\"button\"><span class=\"css-z1qiqj\">태그</span></button><button class=\"css-1flqq3\" type=\"button\"><span class=\"css-z1qiqj\">지역</span></button><button class=\"css-1flqq3\" type=\"button\"><style data-emotion=\"css c9i5ia\">.css-c9i5ia{color:initial;font-weight:700;font-size:22px;}</style><span class=\"css-c9i5ia\">랭킹</span></button></div><style data-emotion=\"css 1yh81oo\">.css-1yh81oo{display:none;}@media screen and (min-width: 972px){.css-1yh81oo{display:-webkit-box;display:-webkit-flex;display:-ms-flexbox;display:flex;-webkit-flex-direction:row;-ms-flex-direction:row;flex-direction:row;-webkit-box-pack:center;-ms-flex-pack:center;-webkit-justify-content:center;justify-content:center;-webkit-align-items:center;-webkit-box-align:center;-ms-flex-align:center;align-items:center;height:64px;background-color:#008a94;}.css-1yh81oo a:not(:last-of-type){margin-right:40px;}}</style><div class=\"css-1yh81oo\"><style data-emotion=\"css 7mnc00\">.css-7mnc00{display:-webkit-box;display:-webkit-flex;display:-ms-flexbox;display:flex;-webkit-flex-direction:row;-ms-flex-direction:row;flex-direction:row;-webkit-box-pack:center;-ms-flex-pack:center;-webkit-justify-content:center;justify-content:center;-webkit-align-items:center;-webkit-box-align:center;-ms-flex-align:center;align-items:center;height:100%;opacity:0.4;}</style><a class=\"css-7mnc00\" href=\"/ranking/view\"><style data-emotion=\"css m88j9r\">.css-m88j9r{font-size:14px;line-height:1.43;color:#ffffff;font-weight:500;}</style><span class=\"css-m88j9r\">많이 본 브랜드</span></a><a class=\"css-7mnc00\" href=\"/ranking/popular\"><span class=\"css-m88j9r\">인기 브랜드</span></a><style data-emotion=\"css 1bcn6b6\">.css-1bcn6b6{display:-webkit-box;display:-webkit-flex;display:-ms-flexbox;display:flex;-webkit-flex-direction:row;-ms-flex-direction:row;flex-direction:row;-webkit-box-pack:center;-ms-flex-pack:center;-webkit-justify-content:center;justify-content:center;-webkit-align-items:center;-webkit-box-align:center;-ms-flex-align:center;align-items:center;height:100%;opacity:0.4;opacity:1;}</style><a class=\"css-1bcn6b6\" href=\"/ranking/many\"><style data-emotion=\"css debgk2\">.css-debgk2{font-size:14px;line-height:1.43;color:#ffffff;font-weight:500;font-weight:500;}</style><span class=\"css-debgk2\">매장 수 많은 브랜드</span></a></div><style data-emotion=\"css 1hriww\">.css-1hriww{padding-top:56px;}@media screen and (min-width: 972px){.css-1hriww{padding-top:0px;}}</style><div class=\"css-1hriww\"><style data-emotion=\"css n7wer7\">.css-n7wer7{padding:16px 20px;background-color:#f5f5f5;}</style><div class=\"css-n7wer7\"><style data-emotion=\"css 490tlg\">.css-490tlg{display:-webkit-box;display:-webkit-flex;display:-ms-flexbox;display:flex;gap:4px;}</style><div class=\"css-490tlg\"><style data-emotion=\"css k86if8\">.css-k86if8{display:inline-block;cursor:pointer;height:32px;padding:8px 12px;border:1px solid #eee;background-color:#ffffff;border-radius:18px;color:#969B9E;font-weight:600;}.css-k86if8:hover{border:1px solid #008a94;color:#008a94;}</style><button class=\"css-k86if8\"><style data-emotion=\"css 11mm0h3\">.css-11mm0h3{font-weight:600;}</style><p class=\"css-11mm0h3\">많이 본</p></button><button class=\"css-k86if8\"><p class=\"css-11mm0h3\">인기 많은</p></button><style data-emotion=\"css 1ced5u2\">.css-1ced5u2{display:inline-block;cursor:pointer;height:32px;padding:8px 12px;border:1px solid #eee;background-color:#ffffff;border-radius:18px;color:#969B9E;font-weight:600;font-weight:600;border:1px solid transparent;background-color:#008a94;color:#ffffff;}.css-1ced5u2:hover{border:1px solid #008a94;color:#008a94;}.css-1ced5u2:hover{background-color:#008a94;color:#ffffff;}</style><button class=\"css-1ced5u2\"><p class=\"css-11mm0h3\">매장 수 많은</p></button></div></div><style data-emotion=\"css 1c106h7\">.css-1c106h7{display:-webkit-box;display:-webkit-flex;display:-ms-flexbox;display:flex;-webkit-flex-direction:row;-ms-flex-direction:row;flex-direction:row;-webkit-box-pack:justify;-webkit-justify-content:space-between;justify-content:space-between;-webkit-align-items:center;-webkit-box-align:center;-ms-flex-align:center;align-items:center;padding:20px;}</style><div class=\"css-1c106h7\"><style data-emotion=\"css 1x096il\">.css-1x096il{display:-webkit-box;display:-webkit-flex;display:-ms-flexbox;display:flex;-webkit-flex-direction:column;-ms-flex-direction:column;flex-direction:column;-webkit-box-pack:justify;-webkit-justify-content:space-between;justify-content:space-between;gap:9px;}</style><div class=\"css-1x096il\"><style data-emotion=\"css h67fv3\">.css-h67fv3{font-size:14px;font-weight:500;font-weight:600;}</style><p class=\"css-h67fv3\">운영 중인 매장이 많은<br/>브랜드를 살펴보세요</p><style data-emotion=\"css 1oj071q\">.css-1oj071q{width:120px;height:20px;background-color:#e4e6e7;}</style><div class=\"css-1oj071q\"></div></div><img alt=\"랭킹 표현 이미지\" height=\"58\" src=\"data:image/png;base64,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\" width=\"58\"/></div><style data-emotion=\"css qz735v\">.css-qz735v{padding:8px 20px 20px 20px;}</style><div class=\"css-qz735v\"><div></div><div></div><div></div><div></div><div></div><style data-emotion=\"css te1fbj\">.css-te1fbj{margin:8px 0;}</style><div class=\"css-te1fbj\"><style data-emotion=\"css 1da002l\">.css-1da002l{display:-webkit-box;display:-webkit-flex;display:-ms-flexbox;display:flex;-webkit-flex-direction:row;-ms-flex-direction:row;flex-direction:row;-webkit-box-pack:center;-ms-flex-pack:center;-webkit-justify-content:center;justify-content:center;-webkit-align-items:center;-webkit-box-align:center;-ms-flex-align:center;align-items:center;width:100%;height:100%;}.css-1da002l .brand_display_1,.css-1da002l .brand_display_2,.css-1da002l .brand_detail_display_1,.css-1da002l .pagination_display_1,.css-1da002l .ranking_display_1{width:320px;height:100px;}@media (min-width: 500px){.css-1da002l .brand_display_1,.css-1da002l .brand_display_2,.css-1da002l .brand_detail_display_1,.css-1da002l .pagination_display_1,.css-1da002l .ranking_display_1{width:468px;height:60px;}}@media (min-width: 800px){.css-1da002l .brand_detail_display_1,.css-1da002l .pagination_display_1,.css-1da002l .ranking_display_1{width:728px;height:90px;}}</style><div class=\"css-1da002l\"><ins class=\"adsbygoogle ranking_display_1\" data-ad-client=\"ca-pub-8921050991097615\" data-ad-slot=\"5874964000\" style=\"display:block\"></ins></div></div><div></div><div></div><div></div><div></div><div></div></div><style data-emotion=\"css 7ccxth\">.css-7ccxth{padding:14px;margin:0;border:0px;}</style><div class=\"css-7ccxth\"></div></div><div style=\"display:none\"><h2>마이프차 랭킹</h2><h3>매장 수 많은 브랜드</h3></div></main></div><style data-emotion=\"css 1hz5dat\">.css-1hz5dat{padding:0;}.css-1hz5dat.Toastify__toast-container--bottom-right{right:10px;bottom:0;}.css-1hz5dat.Toastify__toast-container--bottom-center{left:0;right:0;bottom:0;width:100%;-webkit-transform:translateX(0);-moz-transform:translateX(0);-ms-transform:translateX(0);transform:translateX(0);}.css-1hz5dat.Toastify__toast-container--top-center{top:112px;}.css-1hz5dat .Toastify__toast-body p{word-break:keep-all;}.css-1hz5dat .Toastify__toast{width:100%;max-width:100%;margin-bottom:10px;margin:0 auto;padding:16px;color:#ffffff;background-color:#2c2c2ce6;border-radius:0;font-family:Pretendard,-apple-system,BlinkMacSystemFont,system-ui,'Segoe UI','Apple SD Gothic Neo','Apple Color Emoji','Segoe UI Emoji','Segoe UI Symbol',sans-serif;font-size:14px;letter-spacing:-0.21px;line-height:20px;text-align:center;}@media screen and (min-width: 972px){.css-1hz5dat .Toastify__toast{border-radius:5px;}}.css-1hz5dat .Toastify__toast--success .Toastify__toast-icon{border-radius:50%;background-color:#ffffff;}.css-1hz5dat .Toastify__toast--success .Toastify__toast-icon svg{fill:#129cff;}@media screen and (min-width: 972px){.css-1hz5dat{margin-bottom:0px;}}</style><div class=\"Toastify\"></div></div><div style=\"overflow:hidden;width:0;height:0\"><h1>성공적인 나의 창업파트너 | 창업 플랫폼 마이프차</h1><a href=\"https://www.notion.so/myfranchise/About-us-c10d150fdcb74f6eb94f61e4443c6d11\">마이프차 소개</a><h2>마이프차는 프랜차이즈 본사와 예비 창업자의 정보 비대칭을 해결하고, 서로에게 꼭 맞는 사업 파트너를 연결해주는 서비스입니다.</h2><p>2018년 국내 자영업자의 폐업률은 89.2%, 프랜차이즈 창업 후 폐업하는 경우는 50%를 넘어선다고 합니다. 이렇게 어려운 환경에도 프랜차이즈를 통해 자영업을 시작하는 사람들은 꾸준히 증가하고 있고요.</p><p>예비 창업자는 열심히 프랜차이즈를 알아보고, 프랜차이즈 본사는 가맹점주를 찾느라 고생하는데 왜 프랜차이즈 시장이 힘들게만 느껴질까요?</p><p>국내에는 6,000여 개의 프랜차이즈 브랜드가 있습니다. 하나하나 알아보기엔 막막한 숫자죠. 막상 정보를 찾아도 쉽게 이해하기 어려워요.</p><p>마이프차는 예비 창업자를 위해 흩어진 정보를 모으고 보기 좋게 정리하는 일부터 시작했습니다. 브랜드를 쉽게 찾아보고 비교해볼 수 있게요.</p><p>가맹점주를 찾고, 가맹점을 관리하는 데 어려움을 겪는 프랜차이즈 본사 입장도 함께 고민하고 있습니다. 브랜드를 쉽게 홍보하고 관리할 수 있게요.</p><p>이제 첫발을 내디딘 수준이지만 프랜차이즈 본사와 예비 창업자에게 꼭 필요한 서비스로 성장할 날을 꿈꿉니다.</p><p>앞으로 마이프차가 만들어가는 프랜차이즈 산업의 신선한 변화를 기대해주세요!</p><footer><div>© MyFranchise, Inc.</div><div>(주)마이프랜차이즈</div><div>서울시 서초구 매헌로16, 13층 1318호</div><div>대표이사 김준용</div><div>사업자등록번호 584-87-01610</div><div>문의 contact@myfranchise.kr</div></footer></div><h2 style=\"display:none\">마이프차</h2><h2 style=\"display:none\">마이프차 주요기능</h2><h4 style=\"display:none\">카테고리</h4><h4 style=\"display:none\">모든 프랜차이즈 정보를 한 눈에</h4><h4 style=\"display:none\">창업아이템</h4><h3 style=\"display:none\">테마</h3><h4 style=\"display:none\">창업 트렌드</h4><h3 style=\"display:none\">랭킹</h3><h4 style=\"display:none\">많이 본 브랜드</h4><h4 style=\"display:none\">인기 브랜드</h4><h3 style=\"display:none\">매거진</h3><h4 style=\"display:none\">창업정보</h4><h3 style=\"display:none\">상권정보</h3><h4 style=\"display:none\">우리 동네 상권분석을 한 번에</h4><h3 style=\"display:none\">수익계산기</h3><h3 style=\"display:none\">마이프차 파트너</h3><h4 style=\"display:none\">브랜드 관리자 무료 가입</h4><h4 style=\"display:none\">가맹점 모집, 브랜드 홍보를 한 번에</h4><script id=\"__NEXT_DATA__\" type=\"application/json\">{\"props\":{\"pageProps\":{\"deviceStatus\":{\"isSmartTV\":false,\"isConsole\":false,\"isWearable\":false,\"isEmbedded\":false,\"isMobileSafari\":false,\"isChromium\":false,\"isMobile\":false,\"isMobileOnly\":false,\"isTablet\":false,\"isBrowser\":true,\"isDesktop\":true,\"isAndroid\":false,\"isWinPhone\":false,\"isIOS\":false,\"isChrome\":true,\"isFirefox\":false,\"isSafari\":false,\"isOpera\":false,\"isIE\":false,\"osVersion\":\"10\",\"osName\":\"Windows\",\"fullBrowserVersion\":\"122.0.0.0\",\"browserVersion\":\"122\",\"browserName\":\"Chrome\",\"mobileVendor\":\"none\",\"mobileModel\":\"none\",\"engineName\":\"Blink\",\"engineVersion\":\"122.0.0.0\",\"getUA\":\"Mozilla/5.0 (Windows NT 10.0; Win64; x64) AppleWebKit/537.36 (KHTML, like Gecko) Chrome/122.0.0.0 Safari/537.36\",\"isEdge\":false,\"isYandex\":false,\"deviceType\":\"browser\",\"isIOS13\":false,\"isIPad13\":false,\"isIPhone13\":false,\"isIPod13\":false,\"isElectron\":false,\"isEdgeChromium\":false,\"isLegacyEdge\":false,\"isWindows\":true,\"isMacOs\":false,\"isMIUI\":false,\"isSamsungBrowser\":false}}},\"page\":\"/ranking/many\",\"query\":{\"category\":\"전체\"},\"buildId\":\"XkdFYrGV9r-ydN3VKG8-A\",\"isFallback\":false,\"appGip\":true,\"scriptLoader\":[]}</script><script>\n",
      "              (function () {\n",
      "              var w = window;\n",
      "              if (w.ChannelIO) {\n",
      "                return (window.console.error || window.console.log || function () {})('ChannelIO script included twice.');\n",
      "              }\n",
      "              var d = window.document;\n",
      "              var ch = function () {\n",
      "                ch.c(arguments);\n",
      "              };\n",
      "              ch.q = [];\n",
      "              ch.c = function (args) {\n",
      "                ch.q.push(args);\n",
      "              };\n",
      "              w.ChannelIO = ch;\n",
      "              function l() {\n",
      "                if (w.ChannelIOInitialized) {\n",
      "                  return;\n",
      "                }\n",
      "                w.ChannelIOInitialized = true;\n",
      "                var s = document.createElement('script');\n",
      "                s.type = 'text/javascript';\n",
      "                s.async = true;\n",
      "                s.src = 'https://cdn.channel.io/plugin/ch-plugin-web.js';\n",
      "                s.charset = 'UTF-8';\n",
      "                var x = document.getElementsByTagName('script')[0];\n",
      "                x.parentNode.insertBefore(s, x);\n",
      "              }\n",
      "              if (document?.readyState === 'complete') {\n",
      "                l();\n",
      "              } else if (window.attachEvent) {\n",
      "                window.attachEvent('onload', l);\n",
      "              } else {\n",
      "                window.addEventListener('DOMContentLoaded', l, false);\n",
      "                window.addEventListener('load', l, false);\n",
      "              }\n",
      "            })();\n",
      "          </script><div id=\"modal-portal\"></div><div id=\"compare-portal\"></div><div id=\"panorama-portal\"></div></body></html>>\n"
     ]
    }
   ],
   "source": [
    "print(soup.prettify)"
   ]
  },
  {
   "cell_type": "code",
   "execution_count": 14,
   "id": "cf1f643e",
   "metadata": {},
   "outputs": [
    {
     "data": {
      "text/html": [
       "<div>\n",
       "<style scoped>\n",
       "    .dataframe tbody tr th:only-of-type {\n",
       "        vertical-align: middle;\n",
       "    }\n",
       "\n",
       "    .dataframe tbody tr th {\n",
       "        vertical-align: top;\n",
       "    }\n",
       "\n",
       "    .dataframe thead th {\n",
       "        text-align: right;\n",
       "    }\n",
       "</style>\n",
       "<table border=\"1\" class=\"dataframe\">\n",
       "  <thead>\n",
       "    <tr style=\"text-align: right;\">\n",
       "      <th></th>\n",
       "      <th>구분</th>\n",
       "      <th>브랜드명</th>\n",
       "    </tr>\n",
       "  </thead>\n",
       "  <tbody>\n",
       "    <tr>\n",
       "      <th>0</th>\n",
       "      <td>2019</td>\n",
       "      <td>이차돌, 혼자라고굶지마라! 1인용, 크린토피아, 바른치킨, 반딧불이, 한앤둘치킨, ...</td>\n",
       "    </tr>\n",
       "    <tr>\n",
       "      <th>1</th>\n",
       "      <td>2018</td>\n",
       "      <td>이비가짬뽕, 핸즈커피, 월드크리닝, 메가엠지씨커피, 에듀플렉스, 월드크리닝, 이비가...</td>\n",
       "    </tr>\n",
       "    <tr>\n",
       "      <th>2</th>\n",
       "      <td>2017</td>\n",
       "      <td>맛깔참죽, 소담애, 시루향기, 요거프레소, 용우동, 이삭토스트, 핸즈커피, 이비가짬...</td>\n",
       "    </tr>\n",
       "  </tbody>\n",
       "</table>\n",
       "</div>"
      ],
      "text/plain": [
       "     구분                                               브랜드명\n",
       "0  2019  이차돌, 혼자라고굶지마라! 1인용, 크린토피아, 바른치킨, 반딧불이, 한앤둘치킨, ...\n",
       "1  2018  이비가짬뽕, 핸즈커피, 월드크리닝, 메가엠지씨커피, 에듀플렉스, 월드크리닝, 이비가...\n",
       "2  2017  맛깔참죽, 소담애, 시루향기, 요거프레소, 용우동, 이삭토스트, 핸즈커피, 이비가짬..."
      ]
     },
     "execution_count": 14,
     "metadata": {},
     "output_type": "execute_result"
    }
   ],
   "source": [
    "best_fren = pd.read_csv('data/소상공인시장진흥공단_우수프랜차이즈 현황_12_31_2019.csv', encoding='ms949')\n",
    "best_fren"
   ]
  },
  {
   "cell_type": "code",
   "execution_count": 39,
   "id": "6839d325",
   "metadata": {},
   "outputs": [
    {
     "data": {
      "text/plain": [
       "['이차돌, 혼자라고굶지마라! 1인용, 크린토피아, 바른치킨, 반딧불이, 한앤둘치킨, 푸라닭, 크라운호프, 월드크리닝, 핸즈커피, 커피베이, 토프레소, 에듀플렉스, 깐깐한족발, 자담치킨, 메가MGC커피, 오레시피, 한마음정육식당, 수유리우동집, 강정구의 피자생각, 커브스, 아소비, 유가네닭갈비, 꼬지사께, 세븐스타코인노래연습장, 티바두마리치킨, 김형제고기의철학, 얌샘김밥, 33떡볶이',\n",
       " '이비가짬뽕, 핸즈커피, 월드크리닝, 메가엠지씨커피, 에듀플렉스, 월드크리닝, 이비가짬뽕, 커브스, 커피베이, 피자마루, 핸즈커피, 카페루앤비, 할매손충무김밥, 꼬지사께, 토프레소, 덤인, 곽두리쪽갈비, 깐깐한 족발, 꼬지사께, 세븐스타코인 노래연습장, 수유리우동집, 얌샘김밥, 참이맛감자탕, 카페루앤비, 토프레소, 할매손 충무김밥',\n",
       " '맛깔참죽, 소담애, 시루향기, 요거프레소, 용우동, 이삭토스트, 핸즈커피, 이비가짬뽕, 못된 고양이, 메가 커피, 에듀 플렉스, 이화수 전통육개장, 커피베이, 한촌설렁탕, 피자마루, 커브스, 꼬지사께, 더진국, 땅땅치킨, 엘리팝, 유가네 닭갈비, 이바돔 감자탕, 도이첸, 바보스, 카페앤루비, 월드클리닝, 개미인력개발, IGA 마트, 1인용, 깐깐한 족발, 수유리 우동집, 얌샘김밥, 세븐스타코인노래방, 곽두리쪽갈비, 참이맛 감자탕, 마루회덮밥, 안경매니저, 덤인']"
      ]
     },
     "execution_count": 39,
     "metadata": {},
     "output_type": "execute_result"
    }
   ],
   "source": [
    "best_list = best_fren.values.tolist()\n",
    "best_list[0].remove(2019)\n",
    "best_list[1].remove(2018)\n",
    "best_list[2].remove(2017)\n",
    "list1 = []\n",
    "for i in range(3):\n",
    "    list1.extend(best_list[i])\n",
    "list1"
   ]
  },
  {
   "cell_type": "code",
   "execution_count": null,
   "id": "1cbe3a38",
   "metadata": {},
   "outputs": [],
   "source": []
  }
 ],
 "metadata": {
  "kernelspec": {
   "display_name": "Python 3 (ipykernel)",
   "language": "python",
   "name": "python3"
  },
  "language_info": {
   "codemirror_mode": {
    "name": "ipython",
    "version": 3
   },
   "file_extension": ".py",
   "mimetype": "text/x-python",
   "name": "python",
   "nbconvert_exporter": "python",
   "pygments_lexer": "ipython3",
   "version": "3.11.5"
  }
 },
 "nbformat": 4,
 "nbformat_minor": 5
}
